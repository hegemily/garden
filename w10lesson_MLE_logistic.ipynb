{
 "cells": [
  {
   "cell_type": "markdown",
   "metadata": {},
   "source": [
    "### Week 10: Logistic regression\n",
    "\n",
    "By Charlie Eaton and Albina Gibadullina\n",
    "\n",
    "April 2, 2020\n",
    "\n",
    "1. Reactions to \"The Social Circuitry of High Finance\"\n",
    "2. Probabilities and odds ratios\n",
    "3. The Maximum Likelihood Estimation (MLE) intuition of logistic regression\n",
    "4. The magic of logs revisited: Log Likelihoods\n",
    "5. The MLE logistic equation to maxamize log likelihoods\n",
    "6. Implementing & Interpreting MLE logistic regression in Stata\n",
    "7. Postestimation and robustness"
   ]
  },
  {
   "cell_type": "markdown",
   "metadata": {},
   "source": [
    "### 1. \"The Social Circuitry of High Finance\""
   ]
  },
  {
   "cell_type": "code",
   "execution_count": 1,
   "metadata": {
    "tags": []
   },
   "outputs": [
    {
     "data": {
      "text/html": [
       "<style>div.jp-Notebook .datagrid-container {min-height: 448px; }</style>"
      ],
      "text/plain": [
       "<IPython.core.display.HTML object>"
      ]
     },
     "metadata": {},
     "output_type": "display_data"
    },
    {
     "name": "stdout",
     "output_type": "stream",
     "text": [
      "-------------------------------------------------------------------------------\n",
      "      name:  <unnamed>\n",
      "       log:  /Users/emilyernst/Desktop/GitHub/Graduate-Statistics-and-Data-Scie\n",
      "> nce-for-Sociology/week10/w10lesson_MLE_logistic20200401.log\n",
      "  log type:  text\n",
      " opened on:   2 Apr 2024, 09:12:14\n",
      "\n",
      "Contains data from socialcircuitrybillionaires.dta\n",
      " Observations:         1,200                  \n",
      "    Variables:             6                  1 Apr 2020 01:18\n",
      "-------------------------------------------------------------------------------\n",
      "Variable      Storage   Display    Value\n",
      "    name         type    format    label      Variable label\n",
      "-------------------------------------------------------------------------------\n",
      "year            float   %10.0g                year of observation\n",
      "boardtop30pri~e float   %9.0g                 held seat on top 30 private\n",
      "                                                university board\n",
      "inherited       float   %9.0g                 in Forbes inherited wealth\n",
      "                                                category\n",
      "collegeschool~e float   %9.0g                 BA school elite status 0 to 3\n",
      "id              float   %9.0g                 person-level unique ID\n",
      "pehedge         float   %9.0g                 private equity or hedge fund\n",
      "                                                partner\n",
      "-------------------------------------------------------------------------------\n",
      "Sorted by: \n"
     ]
    }
   ],
   "source": [
    "//using this because it's a binary/dichotomous dependent variable, which is commmonly what we use\n",
    "set more off\n",
    "log using w10lesson_MLE_logistic20200401.log\n",
    "use socialcircuitrybillionaires, clear\n",
    "describe"
   ]
  },
  {
   "cell_type": "code",
   "execution_count": 2,
   "metadata": {},
   "outputs": [
    {
     "data": {
      "text/html": [
       "<div>\n",
       "<style scoped>\n",
       "    .dataframe tbody tr th:only-of-type {\n",
       "        vertical-align: middle;\n",
       "    }\n",
       "\n",
       "    .dataframe tbody tr th {\n",
       "        vertical-align: top;\n",
       "    }\n",
       "\n",
       "    .dataframe thead th {\n",
       "        text-align: right;\n",
       "    }\n",
       "</style>\n",
       "<table border=\"1\" class=\"dataframe\">\n",
       "  <thead>\n",
       "    <tr style=\"text-align: right;\">\n",
       "      <th></th>\n",
       "      <th>year</th>\n",
       "      <th>boardtop30private</th>\n",
       "      <th>inherited</th>\n",
       "      <th>collegeschooltype</th>\n",
       "      <th>id</th>\n",
       "      <th>pehedge</th>\n",
       "    </tr>\n",
       "  </thead>\n",
       "  <tbody>\n",
       "    <tr>\n",
       "      <th>1</th>\n",
       "      <td>1989</td>\n",
       "      <td>0</td>\n",
       "      <td>0</td>\n",
       "      <td>0</td>\n",
       "      <td>865</td>\n",
       "      <td>0</td>\n",
       "    </tr>\n",
       "    <tr>\n",
       "      <th>2</th>\n",
       "      <td>1989</td>\n",
       "      <td>0</td>\n",
       "      <td>0</td>\n",
       "      <td>2</td>\n",
       "      <td>767</td>\n",
       "      <td>0</td>\n",
       "    </tr>\n",
       "    <tr>\n",
       "      <th>3</th>\n",
       "      <td>1989</td>\n",
       "      <td>0</td>\n",
       "      <td>1</td>\n",
       "      <td>0</td>\n",
       "      <td>662</td>\n",
       "      <td>0</td>\n",
       "    </tr>\n",
       "    <tr>\n",
       "      <th>4</th>\n",
       "      <td>1989</td>\n",
       "      <td>0</td>\n",
       "      <td>0</td>\n",
       "      <td>1</td>\n",
       "      <td>298</td>\n",
       "      <td>0</td>\n",
       "    </tr>\n",
       "    <tr>\n",
       "      <th>5</th>\n",
       "      <td>1989</td>\n",
       "      <td>0</td>\n",
       "      <td>0</td>\n",
       "      <td>1</td>\n",
       "      <td>446</td>\n",
       "      <td>0</td>\n",
       "    </tr>\n",
       "    <tr>\n",
       "      <th>6</th>\n",
       "      <td>1989</td>\n",
       "      <td>1</td>\n",
       "      <td>0</td>\n",
       "      <td>3</td>\n",
       "      <td>505</td>\n",
       "      <td>1</td>\n",
       "    </tr>\n",
       "  </tbody>\n",
       "</table>\n",
       "</div>"
      ],
      "text/plain": [
       "\n",
       "      +-------------------------------------------------------+\n",
       "      | year   boardt~e   inheri~d   colleg~e    id   pehedge |\n",
       "      |-------------------------------------------------------|\n",
       "   1. | 1989          0          0          0   865         0 |\n",
       "   2. | 1989          0          0          2   767         0 |\n",
       "   3. | 1989          0          1          0   662         0 |\n",
       "   4. | 1989          0          0          1   298         0 |\n",
       "   5. | 1989          0          0          1   446         0 |\n",
       "      |-------------------------------------------------------|\n",
       "   6. | 1989          1          0          3   505         1 |\n",
       "      +-------------------------------------------------------+\n",
       "\n"
      ]
     },
     "metadata": {},
     "output_type": "display_data"
    }
   ],
   "source": [
    "%head if _n<7"
   ]
  },
  {
   "cell_type": "markdown",
   "metadata": {},
   "source": [
    "### 2. Probabilities and odds ratios\n",
    "\n",
    "* A. With a dichotomous (binary) dependent variable Y, we cannot assume that regression residuals (errors of prediction) are normally distributed as OLS requires. And OLS will predict non-sensical values for Y (outside of the range of 0 to 1)\n",
    "    -> in our example, can be on a board of trustees or not.\n",
    "    -> OLS uses predicted value of y in which it predicts 1.5. There is no 1.5, there's 0 to 1\n",
    "\n",
    "* B. Instead, logistic regression predicts the logit of dependent variable Y (aka the log of the odds ratio for Y=1) for each observation based on independent variables: $ X_1 ... X_k $\n",
    "    -> logit is the log of the odds ratio for y\n",
    "    -> the **odds ratio** is an expression of the probability that y is true.\n",
    "        -> prob is 0 to 1. \n",
    "\n",
    "* C. Odds ratios are an expression of the probability that Y=1 is true.\n",
    "\n",
    "An example from \"Social Circuitry\":\n",
    "\n",
    "* Y is a dichotomous/binary dependent variable\n",
    "\n",
    "* Y = 1 if the Forbes 400 billionaire serves on the board of a top 30 private university that year, and is otherwise 0\n",
    "\n",
    "* The unconditioned probability that Y=1 is estimated as follows:\n",
    "\n",
    "### $ p=P(Y=1) = {f_{Y=1} \\over N} $\n",
    "\n",
    "//the probability that y=1 if the frequency over the total sample size\n",
    "\n",
    "We can estimate probability with a frequency table:"
   ]
  },
  {
   "cell_type": "code",
   "execution_count": 2,
   "metadata": {
    "tags": []
   },
   "outputs": [
    {
     "name": "stdout",
     "output_type": "stream",
     "text": [
      "\n",
      "+-------------------+\n",
      "| Key               |\n",
      "|-------------------|\n",
      "|     frequency     |\n",
      "| column percentage |\n",
      "+-------------------+\n",
      "\n",
      " held seat |\n",
      " on top 30 |\n",
      "   private |   private equity or\n",
      "university |  hedge fund partner\n",
      "     board |         0          1 |     Total\n",
      "-----------+----------------------+----------\n",
      "         0 |       952         94 |     1,046 \n",
      "           |     88.81      73.44 |     87.17 \n",
      "-----------+----------------------+----------\n",
      "         1 |       120         34 |       154 \n",
      "           |     11.19      26.56 |     12.83 \n",
      "-----------+----------------------+----------\n",
      "     Total |     1,072        128 |     1,200 \n",
      "           |    100.00     100.00 |    100.00 \n"
     ]
    }
   ],
   "source": [
    "tab boardtop30private pehedge, column"
   ]
  },
  {
   "cell_type": "markdown",
   "metadata": {},
   "source": [
    "### From probability to an odds ratio:\n",
    "\n",
    "* An odds ratio is the probability of something being true divided by the probability that it is not true.\n",
    "\n",
    "* The formula for an odds ratio is:\n",
    "\n",
    "### $ OR = {p \\over (1-p)} $\n",
    "\n",
    "We can write this in Stata:"
   ]
  },
  {
   "cell_type": "code",
   "execution_count": 3,
   "metadata": {
    "tags": []
   },
   "outputs": [
    {
     "name": "stdout",
     "output_type": "stream",
     "text": [
      "OR = p / (1-p) = .14718366\n",
      "OR = (fy=1 / fy=0) = .14722753\n"
     ]
    }
   ],
   "source": [
    "//if p = true 1-p = not true\n",
    "display \"OR = p / (1-p) = \" .1283 / (1-.1283)\n",
    "display \"OR = (fy=1 / fy=0) = \" 154 / 1046"
   ]
  },
  {
   "cell_type": "markdown",
   "metadata": {},
   "source": [
    "### 3. The Maximum Likelihood Estimation (MLE) intuition of logistic regression\n",
    "\n",
    "* The principle \"is to find the value of the \"coefficient\" that maximizes the likelihood of observing all of the sample data.\" (Treiman pg. 302)\n",
    "\n",
    "* This means our model and coefficients predict the **\"likelihood\"** of Y=1 or Y=0 rather than the value of Y for each observation.\n",
    "\n",
    "* Think of every observation of Y -- whether they are on a top university board -- for every billionaire in our dataset as involving a flip of a coin resulting in Heads, Y=yes, or Tails, Y=No.\n",
    "\n",
    "* But the coin toss is never really fair because the coin is weighted.\n",
    "\n",
    "* We estimate coefficients for our independent variables in logistic regression to predict how much weight towards yes or no (i.e. probability of yes or no) for each billionaire would give us the **Maximum Likelihood** of observing all of our exact data.\n",
    "\n",
    "* As shown above, just being a billionaire gives someone a .128 chance of being on a top university board. Suppose we think that being a billionaire **private equity or hedge fund manager** gives someone a .25 chance. Here is how it would look in Stata if did 100 flips of a coin that was weighted according to these probabilities:"
   ]
  },
  {
   "cell_type": "code",
   "execution_count": 23,
   "metadata": {},
   "outputs": [],
   "source": [
    "%set graph_format svg"
   ]
  },
  {
   "cell_type": "code",
   "execution_count": 4,
   "metadata": {
    "tags": []
   },
   "outputs": [],
   "source": [
    "quietly net install heads, from(https://stats.idre.ucla.edu/stat/stata/ado/teach)"
   ]
  },
  {
   "cell_type": "code",
   "execution_count": 5,
   "metadata": {
    "tags": []
   },
   "outputs": [
    {
     "data": {
      "image/png": "[encoded data removed]",
      "text/plain": [
       "<IPython.core.display.Image object>"
      ]
     },
     "metadata": {},
     "output_type": "display_data"
    }
   ],
   "source": [
    "quietly heads, flips(100) prob(.128)\n",
    "quietly graph save plainbillionaires, replace"
   ]
  },
  {
   "cell_type": "code",
   "execution_count": 6,
   "metadata": {
    "tags": []
   },
   "outputs": [
    {
     "data": {
      "image/png": "[encoded data removed]",
      "text/plain": [
       "<IPython.core.display.Image object>"
      ]
     },
     "metadata": {},
     "output_type": "display_data"
    }
   ],
   "source": [
    "quietly heads, flips(100) prob(.25)\n",
    "quietly graph save pehedgebillionaires, replace\n",
    "graph combine plainbillionaires.gph pehedgebillionaires.gph, ysize(6) xsize(12) iscale(.95) ///\n",
    "title(\"Frequency getting board seats across 100 coin flips for Plain Billionaires vs. PE/Hedge Billionaires\", size(medlarge))"
   ]
  },
  {
   "cell_type": "code",
   "execution_count": 10,
   "metadata": {
    "tags": []
   },
   "outputs": [
    {
     "data": {
      "image/png": "[encoded data removed]",
      "text/plain": [
       "<IPython.core.display.Image object>"
      ]
     },
     "metadata": {},
     "output_type": "display_data"
    }
   ],
   "source": [
    "//this is used in logistic regression expression and is more accurate than the next predicted line\n",
    "tw (function y = 1/(1+exp(6 +-x)), range(0 10))"
   ]
  },
  {
   "cell_type": "code",
   "execution_count": 11,
   "metadata": {
    "jupyter": {
     "source_hidden": true
    },
    "tags": []
   },
   "outputs": [
    {
     "data": {
      "image/png": "[encoded data removed]",
      "text/plain": [
       "<IPython.core.display.Image object>"
      ]
     },
     "metadata": {},
     "output_type": "display_data"
    }
   ],
   "source": [
    "tw (function y = -.5 + .2*x, range(0 10))"
   ]
  },
  {
   "cell_type": "markdown",
   "metadata": {},
   "source": [
    "### 4. The magic of logs revisited: Log Likelihoods\n",
    "\n",
    "* Maximum Likelihood Estimation (MLE) typically uses log likelihoods in part because logs make calculations easier for humans and computers, especially when it comes to very small probabilities.\n",
    "\n",
    "* To see this, **try using the calculator on your computer to multiply .01^25 * .01^25.** This is equivalent to multiplying .01 by itself 50 times.\n",
    "\n",
    "* Logs also have handy properties such as the log of a product, i.e. log(X * Y) being equal to the sum of the logs, i.e. log(X) + log(Y). For example:"
   ]
  },
  {
   "cell_type": "code",
   "execution_count": 8,
   "metadata": {
    "tags": []
   },
   "outputs": [
    {
     "name": "stdout",
     "output_type": "stream",
     "text": [
      "log(10 * 10) = -18.420681\n",
      "log(10) + log(10) = -18.420681\n"
     ]
    }
   ],
   "source": [
    "display \"log(10 * 10) = \" log(.0001*.0001)\n",
    "display \"log(10) + log(10) = \" log(.0001) + log(.0001)"
   ]
  },
  {
   "cell_type": "markdown",
   "metadata": {},
   "source": [
    "### 5. The MLE logistic equation to maximize log likelihoods\n",
    "\n",
    "* What follows is the painful algebraic explanation of the MLE logit model. It should make more sense in a moment when I will illustrate it in an interactive Excel worksheet.\n",
    "\n",
    "* The MLE logit model equation predicts a logit (aka log odds) for each observation as the log of the odds ratio for the probability that Y=1 ($ p = p_{Y=1} $):\n",
    "\n",
    "### logit (aka log odds) = $ \\log_e(OR) = \\log_e(\\frac{p}{1-p}) = \\alpha + \\beta_1 x_1 + ... \\beta_2 x_K $\n",
    "\n",
    "* Maximum Likeihood Estimation then estimates which coefficients maximize \"log likelihoods\" by predicting logits that express probabilities for Y=1 which are closest to the cumulative probability that Y=1 for each\n",
    "\n",
    "* The procedures for estimating the logit can be derived from the logit formula as follows:\n",
    "\n",
    "### $ \\frac{p}{1-p} = e^{\\alpha + \\beta_1 x_1 + ... \\beta_2 x_K} $\n",
    "\n",
    "* further therefore:\n",
    "\n",
    "### $ {p} = e^{\\alpha...} - p \\cdot e^{\\alpha...}  $\n",
    "### $ {p} + p \\cdot e^{\\alpha...} = e^{\\alpha...} $\n",
    "### $ {p} \\cdot (1 + e^{\\alpha...}) = e^{\\alpha...} $\n",
    "### $ {p} = \\frac{e^{\\alpha...}}{1 + e^{\\alpha...}} $\n",
    "\n",
    "* The log likelihood for Y=1 | Y=0 based on the logit for **each observation** is then:\n",
    "\n",
    "### $ {Y} \\cdot \\ln{\\frac{e^{\\alpha...}}{1 + e^{\\alpha...}}} + (1-Y) \\cdot \\ln{(1 - \\frac{e^{\\alpha...}}{1 + e^{\\alpha...}})}   $\n",
    "\n",
    "* So that if Y=1, the higher the logit the higher the log likelihood, but if Y=0, the higher the logit the lower the log likelihood.\n",
    "\n",
    "* The logistic MLE estimation then iteratively adjusts each regression coefficient upwards and downwards until converging on a coefficient that maximizes the sum of log likelihoods for all observations:\n",
    "\n",
    "### $  \\sum_{i=1}^N {Y_i} \\cdot \\ln{\\frac{e^{\\alpha...}}{1 + e^{\\alpha...}}} + (1-Y_i) \\cdot \\ln{(1 - \\frac{e^{\\alpha...}}{1 + e^{\\alpha...}})} $\n",
    "\n",
    "* Now let's check this out in an interactive spreadsheet. Your task in the spreadsheet is adjust each regression coefficient by hand to maximize the sum of log likelihooks. The worksheet is here: https://github.com/charlieeatonphd/gradstats2/blob/master/week10/socialcircuitry.xlsx"
   ]
  },
  {
   "cell_type": "markdown",
   "metadata": {},
   "source": [
    "### 6. Implementing & Interpreting MLE logistic regression in Stata\n",
    "\n",
    "* Lets see how the coefficients estimated by Stata compare to what we estimated by hand:"
   ]
  },
  {
   "cell_type": "code",
   "execution_count": 30,
   "metadata": {},
   "outputs": [
    {
     "name": "stdout",
     "output_type": "stream",
     "text": [
      "\n",
      "Iteration 0:   log likelihood = -459.84734  \n",
      "Iteration 1:   log likelihood =  -420.6123  \n",
      "Iteration 2:   log likelihood = -416.17173  \n",
      "Iteration 3:   log likelihood = -416.16029  \n",
      "Iteration 4:   log likelihood = -416.16029  \n",
      "\n",
      "Logistic regression                             Number of obs     =      1,200\n",
      "                                                LR chi2(3)        =      87.37\n",
      "                                                Prob > chi2       =     0.0000\n",
      "Log likelihood = -416.16029                     Pseudo R2         =     0.0950\n",
      "\n",
      "-------------------------------------------------------------------------------\n",
      "boardtop30p~e |      Coef.   Std. Err.      z    P>|z|     [95% Conf. Interval]\n",
      "--------------+----------------------------------------------------------------\n",
      "      pehedge |    .762881   .2366904     3.22   0.001     .2989764    1.226786\n",
      "    inherited |  -.3198332   .2005328    -1.59   0.111    -.7128704    .0732039\n",
      "collegescho~e |   .6845971   .0917744     7.46   0.000     .5047225    .8644716\n",
      "        _cons |  -3.228159   .2262613   -14.27   0.000    -3.671623   -2.784695\n",
      "-------------------------------------------------------------------------------\n"
     ]
    }
   ],
   "source": [
    "logit boardtop30private pehedge inherited collegeschooltype"
   ]
  },
  {
   "cell_type": "markdown",
   "metadata": {},
   "source": [
    "### But what do these coefficients mean?\n",
    "\n",
    "* The coefficients are the amount of change expected in the log of the odd ratio for Y=1 for every 1 unit change in X.\n",
    "\n",
    "* Thinking about the meaning of the coefficents makes my head hurt. So I like to convert them to **odds ratios.**\n",
    "\n",
    "* To convert the coefficient to an odds ratio we just exponentiate the coefficient (aka take the antilog) as follows:\n",
    "\n",
    "###  $ \\log_e(OR) = \\log_e(\\frac{p}{1-p}) = \\alpha + \\beta_1 x_1 + ... \\beta_2 x_K $\n",
    "\n",
    "therefore:\n",
    "\n",
    "### $ \\log_e(OR_\\beta{x_1}) = \\beta{x_1} $\n",
    "\n",
    "further therefore:\n",
    "\n",
    "### $ OR_\\beta{x_1} = e^{\\beta{x_1}} $\n",
    "\n",
    "* Or in Stata:"
   ]
  },
  {
   "cell_type": "code",
   "execution_count": 9,
   "metadata": {},
   "outputs": [
    {
     "name": "stdout",
     "output_type": "stream",
     "text": [
      "OR for beta(pe_hedge) = e^.762881 = 2.1444455\n"
     ]
    }
   ],
   "source": [
    "display \"OR for beta(pe_hedge) = e^.762881 = \" exp(.762881)"
   ]
  },
  {
   "cell_type": "markdown",
   "metadata": {},
   "source": [
    "* Or we can get **Odds Ratios** directly from the logistic regression command the **\"or\"** specification:"
   ]
  },
  {
   "cell_type": "code",
   "execution_count": 19,
   "metadata": {
    "tags": []
   },
   "outputs": [
    {
     "name": "stdout",
     "output_type": "stream",
     "text": [
      "\n",
      "Iteration 0:  Log likelihood = -459.84734  \n",
      "Iteration 1:  Log likelihood =  -420.6123  \n",
      "Iteration 2:  Log likelihood = -416.17173  \n",
      "Iteration 3:  Log likelihood = -416.16029  \n",
      "Iteration 4:  Log likelihood = -416.16029  \n",
      "\n",
      "Logistic regression                                     Number of obs =  1,200\n",
      "                                                        LR chi2(3)    =  87.37\n",
      "                                                        Prob > chi2   = 0.0000\n",
      "Log likelihood = -416.16029                             Pseudo R2     = 0.0950\n",
      "\n",
      "------------------------------------------------------------------------------\n",
      "boardtop30~e | Coefficient  Std. err.      z    P>|z|     [95% conf. interval]\n",
      "-------------+----------------------------------------------------------------\n",
      "     pehedge |    .762881   .2366904     3.22   0.001     .2989764    1.226786\n",
      "   inherited |  -.3198332   .2005328    -1.59   0.111    -.7128704    .0732039\n",
      "collegesch~e |   .6845971   .0917744     7.46   0.000     .5047225    .8644716\n",
      "       _cons |  -3.228159   .2262613   -14.27   0.000    -3.671623   -2.784695\n",
      "------------------------------------------------------------------------------\n"
     ]
    }
   ],
   "source": [
    "logit boardtop30private pehedge inherited collegeschooltype"
   ]
  },
  {
   "cell_type": "markdown",
   "metadata": {},
   "source": [
    "### 7. Postestimation and robustness\n",
    "\n",
    "* Postestimation and robustness precautions are similar to those that apply for OLS regression\n",
    "\n",
    "* Standard error estimates are evaluated with a Z test rather than a t-test for which P-values have equivalent meanings to their counterparts in OLS.\n",
    "\n",
    "* You similarly should specify robust or cluster robust standard errors.\n",
    "\n",
    "* You can also report stored estimates in tables equivalently using esttab. In doing so, for example, we can compare how OLS and MLE yield quite different estimates for university board membership by billionaires:"
   ]
  },
  {
   "cell_type": "code",
   "execution_count": 26,
   "metadata": {
    "tags": []
   },
   "outputs": [],
   "source": [
    "est clear\n",
    "\n",
    "quietly eststo: regress boardtop30private pehedge inherited collegeschooltype i.year, cluster(id) ro\n",
    "quietly eststo: logit boardtop30private pehedge inherited collegeschooltype i.year, cluster(id) ro"
   ]
  },
  {
   "cell_type": "code",
   "execution_count": 27,
   "metadata": {
    "tags": []
   },
   "outputs": [
    {
     "name": "stdout",
     "output_type": "stream",
     "text": [
      "\n",
      "<table border=\"0\" width=\"*\">\n",
      "<caption>unexpontiated coefficients</caption>\n",
      "<tr><td colspan=5><hr></td></tr>\n",
      "<tr><td>            </td><td>         (1)</td><td>   </td><td>         (2)</td>\n",
      "> <td>   </td></tr>\n",
      "<tr><td>            </td><td>         OLS</td><td>   </td><td>MLE / logistic</t\n",
      "> d><td>   </td></tr>\n",
      "<tr><td colspan=5><hr></td></tr>\n",
      "<tr><td>main        </td><td>            </td><td>   </td><td>            </td>\n",
      "> <td>   </td></tr>\n",
      "<tr><td>pehedge     </td><td>        0.11</td><td>*  </td><td>        0.71</td>\n",
      "> <td>*  </td></tr>\n",
      "<tr><td>            </td><td>      (0.05)</td><td>   </td><td>      (0.31)</td>\n",
      "> <td>   </td></tr>\n",
      "<tr><td>inherited   </td><td>       -0.04</td><td>*  </td><td>       -0.45</td>\n",
      "> <td>*  </td></tr>\n",
      "<tr><td>            </td><td>      (0.02)</td><td>   </td><td>      (0.22)</td>\n",
      "> <td>   </td></tr>\n",
      "<tr><td>collegeschooltype</td><td>        0.07</td><td>***</td><td>        0.68\n",
      "> </td><td>***</td></tr>\n",
      "<tr><td>            </td><td>      (0.01)</td><td>   </td><td>      (0.12)</td>\n",
      "> <td>   </td></tr>\n",
      "<tr><td colspan=5><hr></td></tr>\n",
      "<tr><td><i>N</i>    </td><td>        1200</td><td>   </td><td>        1200</td>\n",
      "> <td>   </td></tr>\n",
      "<tr><td colspan=5><hr></td></tr>\n",
      "<tr><td colspan=5>\n",
      "^ p<.1, * p<.05, ** p<.01, *** p<.001\n",
      "</td></tr>\n",
      "</table>\n"
     ]
    }
   ],
   "source": [
    "esttab ///\n",
    ", cells(b(star fmt(2)) se(fmt(2) par)) stardetach  ///\n",
    "\tlegend starlevels(^ .1 * .05 ** .01 *** .001) html ///\n",
    "mlabels(\"OLS\" \"MLE / logistic\") title(\"unexpontiated coefficients\") ///\n",
    "collabels(none) keep(pehedge inherited collegeschooltype)"
   ]
  },
  {
   "cell_type": "markdown",
   "metadata": {},
   "source": [
    "* adding **\"eform\"** to esttab specifies that you want to output odds ratios: "
   ]
  },
  {
   "cell_type": "code",
   "execution_count": 28,
   "metadata": {
    "tags": []
   },
   "outputs": [
    {
     "name": "stdout",
     "output_type": "stream",
     "text": [
      "\n",
      "<table border=\"0\" width=\"*\">\n",
      "<caption>Odds Ratios</caption>\n",
      "<tr><td colspan=5><hr></td></tr>\n",
      "<tr><td>            </td><td>         (1)</td><td>   </td><td>         (2)</td>\n",
      "> <td>   </td></tr>\n",
      "<tr><td>            </td><td>         OLS</td><td>   </td><td>MLE / logistic</t\n",
      "> d><td>   </td></tr>\n",
      "<tr><td colspan=5><hr></td></tr>\n",
      "<tr><td>main        </td><td>            </td><td>   </td><td>            </td>\n",
      "> <td>   </td></tr>\n",
      "<tr><td>pehedge     </td><td>        1.11</td><td>*  </td><td>        2.04</td>\n",
      "> <td>*  </td></tr>\n",
      "<tr><td>            </td><td>      (0.06)</td><td>   </td><td>      (0.63)</td>\n",
      "> <td>   </td></tr>\n",
      "<tr><td>inherited   </td><td>        0.96</td><td>*  </td><td>        0.64</td>\n",
      "> <td>*  </td></tr>\n",
      "<tr><td>            </td><td>      (0.02)</td><td>   </td><td>      (0.14)</td>\n",
      "> <td>   </td></tr>\n",
      "<tr><td>collegeschooltype</td><td>        1.07</td><td>***</td><td>        1.97\n",
      "> </td><td>***</td></tr>\n",
      "<tr><td>            </td><td>      (0.01)</td><td>   </td><td>      (0.24)</td>\n",
      "> <td>   </td></tr>\n",
      "<tr><td colspan=5><hr></td></tr>\n",
      "<tr><td><i>N</i>    </td><td>        1200</td><td>   </td><td>        1200</td>\n",
      "> <td>   </td></tr>\n",
      "<tr><td colspan=5><hr></td></tr>\n",
      "<tr><td colspan=5>\n",
      "Exponentiated coefficients\n",
      "<br />^ p<.1, * p<.05, ** p<.01, *** p<.001\n",
      "</td></tr>\n",
      "</table>\n"
     ]
    }
   ],
   "source": [
    "\n",
    "esttab ///\n",
    ", cells(b(star fmt(2)) se(fmt(2) par)) stardetach  ///\n",
    "\tlegend starlevels(^ .1 * .05 ** .01 *** .001) html ///\n",
    "mlabels(\"OLS\" \"MLE / logistic\") title(\"Odds Ratios\") ///\n",
    "collabels(none) keep(pehedge inherited collegeschooltype) eform"
   ]
  },
  {
   "cell_type": "code",
   "execution_count": null,
   "metadata": {},
   "outputs": [],
   "source": []
  }
 ],
 "metadata": {
  "kernelspec": {
   "display_name": "Stata (nbstata)",
   "language": "stata",
   "name": "nbstata"
  },
  "language_info": {
   "file_extension": ".do",
   "mimetype": "text/x-stata",
   "name": "stata",
   "version": "17"
  }
 },
 "nbformat": 4,
 "nbformat_minor": 4
}
