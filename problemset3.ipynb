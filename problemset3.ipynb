{
 "cells": [
  {
   "cell_type": "markdown",
   "metadata": {},
   "source": [
    "# Problem set 3\n",
    "\n",
    "Emily Ernst\n",
    "\n",
    "Environmental Health and Quality of Life for US Americans in 2022\n",
    "\n",
    "03 March, 2024"
   ]
  },
  {
   "cell_type": "code",
   "execution_count": 1,
   "metadata": {},
   "outputs": [
    {
     "data": {
      "text/html": [
       "<style>div.jp-Notebook .datagrid-container {min-height: 448px; }</style>"
      ],
      "text/plain": [
       "<IPython.core.display.HTML object>"
      ]
     },
     "metadata": {},
     "output_type": "display_data"
    }
   ],
   "source": [
    "//loading in the GSS 2022 dataset\n",
    "set more off \n",
    "use \"/Users/emilyernst/Desktop/garden/GSS2022/GSS2022.dta\" , clear"
   ]
  },
  {
   "cell_type": "code",
   "execution_count": 2,
   "metadata": {},
   "outputs": [
    {
     "name": "stdout",
     "output_type": "stream",
     "text": [
      "physhlth  realinc   hrs1\n"
     ]
    }
   ],
   "source": [
    "ds physhlth realinc hrs1"
   ]
  },
  {
   "cell_type": "markdown",
   "metadata": {
    "jp-MarkdownHeadingCollapsed": true,
    "tags": []
   },
   "source": [
    "## 1. Develop hypotheses about two non-linear relationships [1 pt]\n",
    "\n",
    "You can use the GSS data, Student aid data, or your own data. Develop at least 2 hypotheses about non-linear relationships in your dataset of choice that do the following:\n",
    "\n",
    "    A. Use the form: The DV will change positive/negatively if the IV changes positively/negatively/categorically (specify what the variables measure and what the categories are if you have a categorical hypothesis)\n",
    "    \n",
    "    H1: The dependent variable physhlth (days of poor health experienced in the past 30 days) will have a negative association \n",
    "        with the amount of a respondent's income. \n",
    "    \n",
    "    H2: There will be a positive relationship between the amount of hours worked last week with those who agree they experience \n",
    "        poor health due to their surrounding environments.\n",
    "        \n",
    "\n",
    "    B. State if you expect each hypothesized relationship will be linear or take one of the 5 non-linear forms (1. nominal, 2. \n",
    "    sequential dummies, 3. splines, 4. quadratic, 5. logarithmic). You tell us at least two different non-linear forms that you \n",
    "    think your hypothesized relationships will or will not take.\n",
    "    \n",
    "    I hypothesizenthat H1 will be a non-linear logarhythmic relationship.\n",
    "    I hypothesize H2 will have a non-linear, spline relationship.\n",
    "\n",
    "    C. State your explanation why (theory) you make the predictions in A. and B.\n",
    "    \n",
    "    I think H1 will have a non-linear relationship where higher income will gradually affect less and less because  of what was \n",
    "    discussed in class; income typically tends to have a gradual plateau in effect. \n",
    "    \n",
    "    I hypothesize that H2 will have a spline relationship, where the magnitude of the amount of days of poor health will \n",
    "    increase after 40 hours of work per week. I'm making this guess becaue those who work in rural and agricultural \n",
    "    fields as well as other manual labor positions are most exposed to the conditions that would cause poor health, which are \n",
    "    positions that people often work over 40 hours in per week. \n",
    "  \n",
    "\n",
    "    D. Tell us the source of your data and describe its sample.\n",
    "    \n",
    "    This is a secondary data source, nationally representative cross-sectional data from the GSS 2022 year ballot. The sample \n",
    "    is a random sample of U.S. Adults. "
   ]
  },
  {
   "cell_type": "markdown",
   "metadata": {},
   "source": [
    "## 2. Conduct statistical tests for your hypothesized relationship: [3 pts]\n",
    "\n",
    "* Estimate at least 2 different types of non-linear models that test your hypotheses.\n",
    "\n",
    "* Use appropriate regression and graphical representations to represent each model.\n",
    "\n",
    "* Use esttab to compare between types of non-linear and linear models"
   ]
  },
  {
   "cell_type": "code",
   "execution_count": 15,
   "metadata": {
    "tags": []
   },
   "outputs": [
    {
     "name": "stdout",
     "output_type": "stream",
     "text": [
      "(434 missing values generated)\n"
     ]
    }
   ],
   "source": [
    "//H1. Log relationship\n",
    "//DV: physhlth IV: realinc\n",
    "*Note: Since this is a log-INDEPENDENT model, we are transforming the INDEPENDENT variable in this.\n",
    "\n",
    "gen loggedincome=log10(realinc)"
   ]
  },
  {
   "cell_type": "code",
   "execution_count": 33,
   "metadata": {
    "tags": []
   },
   "outputs": [
    {
     "name": "stdout",
     "output_type": "stream",
     "text": [
      "\n",
      "      Source |       SS           df       MS      Number of obs   =     1,755\n",
      "-------------+----------------------------------   F(1, 1753)      =     18.79\n",
      "       Model |  712.182901         1  712.182901   Prob > F        =    0.0000\n",
      "    Residual |  66443.8251     1,753  37.9029236   R-squared       =    0.0106\n",
      "-------------+----------------------------------   Adj R-squared   =    0.0100\n",
      "       Total |   67156.008     1,754  38.2873478   Root MSE        =    6.1565\n",
      "\n",
      "------------------------------------------------------------------------------\n",
      "    physhlth | Coefficient  Std. err.      t    P>|t|     [95% conf. interval]\n",
      "-------------+----------------------------------------------------------------\n",
      "loggedincome |  -1.468818   .3388509    -4.33   0.000    -2.133413   -.8042239\n",
      "       _cons |   9.342063   1.525526     6.12   0.000     6.350021     12.3341\n",
      "------------------------------------------------------------------------------\n"
     ]
    }
   ],
   "source": [
    "reg physhlth loggedincome "
   ]
  },
  {
   "cell_type": "code",
   "execution_count": 50,
   "metadata": {
    "tags": []
   },
   "outputs": [
    {
     "name": "stdout",
     "output_type": "stream",
     "text": [
      "\u001b[31mvariable yhat2 already defined\n",
      "r(110);\u001b[0m\n"
     ]
    }
   ],
   "source": [
    "predict yhat2\n",
    "replace yhat2=10^(yhat2)\n",
    "\n",
    "*Creating fitted line for regular linear model\n",
    "quietly reg physhlth realrinc\n",
    "predict yhat3, xb"
   ]
  },
  {
   "cell_type": "code",
   "execution_count": null,
   "metadata": {},
   "outputs": [],
   "source": []
  },
  {
   "cell_type": "code",
   "execution_count": 51,
   "metadata": {
    "tags": []
   },
   "outputs": [
    {
     "data": {
      "image/png": "[encoded data removed]",
      "text/plain": [
       "<IPython.core.display.Image object>"
      ]
     },
     "metadata": {},
     "output_type": "display_data"
    }
   ],
   "source": [
    "tw (scatter physhlth realinc) "
   ]
  },
  {
   "cell_type": "code",
   "execution_count": 53,
   "metadata": {
    "tags": []
   },
   "outputs": [
    {
     "data": {
      "image/png": "[encoded data removed]",
      "text/plain": [
       "<IPython.core.display.Image object>"
      ]
     },
     "metadata": {},
     "output_type": "display_data"
    }
   ],
   "source": [
    "tw (scatter physhlth realinc) ///\n",
    "(line yhat2 physhlth realrinc, sort color(red) lwidth(thick)) ///\n",
    "(line yhat3 physhlth realrinc, sort color(blue) lwidth(thick)), legend(off)"
   ]
  },
  {
   "cell_type": "code",
   "execution_count": 59,
   "metadata": {
    "tags": []
   },
   "outputs": [
    {
     "name": "stdout",
     "output_type": "stream",
     "text": [
      "\u001b[31mvariable realrinc_nl already defined\n",
      "r(110);\u001b[0m\n"
     ]
    }
   ],
   "source": [
    "//regress with and without log\n",
    "**Created a logged income variable\n",
    "gen realrinc_nl=log(realrinc)\n"
   ]
  },
  {
   "cell_type": "code",
   "execution_count": 60,
   "metadata": {
    "tags": []
   },
   "outputs": [],
   "source": [
    "*regress the unlogged and logged income variable (DV) on education (IV) and compare\n",
    "\n",
    "qui est clear\n",
    "\n",
    "**Regress w/o logging\n",
    "qui eststo: reg physhlth realrinc \n",
    "\n",
    "** Predict Y-hat based on the above\n"
   ]
  },
  {
   "cell_type": "code",
   "execution_count": 65,
   "metadata": {
    "tags": []
   },
   "outputs": [
    {
     "name": "stdout",
     "output_type": "stream",
     "text": [
      "\u001b[31mvariable yhat5 already defined\n",
      "r(110);\u001b[0m\n"
     ]
    }
   ],
   "source": [
    "*regression\n",
    "qui predict yhat5, xb"
   ]
  },
  {
   "cell_type": "code",
   "execution_count": 66,
   "metadata": {
    "tags": []
   },
   "outputs": [
    {
     "name": "stdout",
     "output_type": "stream",
     "text": [
      "(option xb assumed; fitted values)\n",
      "(1,554 missing values generated)\n"
     ]
    }
   ],
   "source": [
    "**Regress logged Y on education\n",
    "qui eststo: reg physhlth realrinc_nl \n",
    "\n",
    "** Predict logged Y-hat based on the above regression\n",
    "predict yhatln"
   ]
  },
  {
   "cell_type": "code",
   "execution_count": 67,
   "metadata": {
    "tags": []
   },
   "outputs": [
    {
     "name": "stdout",
     "output_type": "stream",
     "text": [
      "\n",
      "      Source |       SS           df       MS      Number of obs   =     1,615\n",
      "-------------+----------------------------------   F(1, 1613)      =     24.08\n",
      "       Model |  886.010172         1  886.010172   Prob > F        =    0.0000\n",
      "    Residual |  59345.9254     1,613  36.7922662   R-squared       =    0.0147\n",
      "-------------+----------------------------------   Adj R-squared   =    0.0141\n",
      "       Total |  60231.9356     1,614  37.3184235   Root MSE        =    6.0657\n",
      "\n",
      "------------------------------------------------------------------------------\n",
      "    physhlth | Coefficient  Std. err.      t    P>|t|     [95% conf. interval]\n",
      "-------------+----------------------------------------------------------------\n",
      " realrinc_nl |  -.6959129   .1418123    -4.91   0.000    -.9740685   -.4177572\n",
      "       _cons |   9.594279    1.40904     6.81   0.000     6.830537    12.35802\n",
      "------------------------------------------------------------------------------\n",
      "(est3 stored)\n"
     ]
    }
   ],
   "source": [
    "eststo: reg physhlth realrinc_nl"
   ]
  },
  {
   "cell_type": "code",
   "execution_count": 68,
   "metadata": {
    "tags": []
   },
   "outputs": [
    {
     "data": {
      "text/html": [
       "<div>\n",
       "<style scoped>\n",
       "    .dataframe tbody tr th:only-of-type {\n",
       "        vertical-align: middle;\n",
       "    }\n",
       "\n",
       "    .dataframe tbody tr th {\n",
       "        vertical-align: top;\n",
       "    }\n",
       "\n",
       "    .dataframe thead th {\n",
       "        text-align: right;\n",
       "    }\n",
       "</style>\n",
       "<table border=\"1\" class=\"dataframe\">\n",
       "  <thead>\n",
       "    <tr style=\"text-align: right;\">\n",
       "      <th></th>\n",
       "      <th>physhlth</th>\n",
       "      <th>yhat</th>\n",
       "      <th>yhatln</th>\n",
       "      <th>realrinc</th>\n",
       "    </tr>\n",
       "  </thead>\n",
       "  <tbody>\n",
       "    <tr>\n",
       "      <th>1</th>\n",
       "      <td></td>\n",
       "      <td>2.339495</td>\n",
       "      <td>2.159972</td>\n",
       "      <td>43600</td>\n",
       "    </tr>\n",
       "    <tr>\n",
       "      <th>2</th>\n",
       "      <td>iap</td>\n",
       "      <td>.</td>\n",
       "      <td>.</td>\n",
       "      <td>.</td>\n",
       "    </tr>\n",
       "    <tr>\n",
       "      <th>3</th>\n",
       "      <td></td>\n",
       "      <td>2.177369</td>\n",
       "      <td>2.715664</td>\n",
       "      <td>19620</td>\n",
       "    </tr>\n",
       "    <tr>\n",
       "      <th>4</th>\n",
       "      <td></td>\n",
       "      <td>.</td>\n",
       "      <td>4.178413</td>\n",
       "      <td>2398</td>\n",
       "    </tr>\n",
       "    <tr>\n",
       "      <th>5</th>\n",
       "      <td>iap</td>\n",
       "      <td>.</td>\n",
       "      <td>.</td>\n",
       "      <td>.</td>\n",
       "    </tr>\n",
       "  </tbody>\n",
       "</table>\n",
       "</div>"
      ]
     },
     "metadata": {},
     "output_type": "display_data"
    }
   ],
   "source": [
    "%head physhlth yhat yhatln realrinc if _n<6"
   ]
  },
  {
   "cell_type": "code",
   "execution_count": 69,
   "metadata": {
    "tags": []
   },
   "outputs": [
    {
     "name": "stdout",
     "output_type": "stream",
     "text": [
      "(1,990 real changes made)\n",
      "\n",
      "------------------------------------------------------------\n",
      "                      (1)             (2)             (3)   \n",
      "                 physhlth        physhlth        physhlth   \n",
      "                     b/se            b/se            b/se   \n",
      "------------------------------------------------------------\n",
      "realrinc           -0.000***                                \n",
      "                  (0.000)                                   \n",
      "realrinc_nl                        -0.696***       -0.696***\n",
      "                                  (0.142)         (0.142)   \n",
      "_cons               3.386***        9.594***        9.594***\n",
      "                  (0.206)         (1.409)         (1.409)   \n",
      "------------------------------------------------------------\n",
      "R-Sqaured           0.014           0.015           0.015   \n",
      "N                1615.000        1615.000        1615.000   \n",
      "------------------------------------------------------------\n"
     ]
    }
   ],
   "source": [
    "**Then exponentiate \n",
    "replace yhatln=10^(yhatln)\n",
    "\n",
    "**Print estimates from both models\n",
    "esttab, stats(r2 N, labels(\"R-Sqaured\" \"N\")) cells(b(star fmt(3)) ///\n",
    "se(fmt(3) par)) nobase"
   ]
  },
  {
   "cell_type": "code",
   "execution_count": null,
   "metadata": {},
   "outputs": [],
   "source": [
    "**uhmmm"
   ]
  },
  {
   "cell_type": "code",
   "execution_count": null,
   "metadata": {},
   "outputs": [],
   "source": [
    "** The models look.. similar, in the sense that I think I'm doing something wrong. When graphed, it seems that the logged ///\n",
    "** model is better.. but when comparing p-values, r-squared, f values everything looks pretty much the same? "
   ]
  },
  {
   "cell_type": "code",
   "execution_count": 3,
   "metadata": {},
   "outputs": [
    {
     "name": "stdout",
     "output_type": "stream",
     "text": [
      "\n",
      "          days of poor physical health past 30 days\n",
      "-------------------------------------------------------------\n",
      "      Percentiles      Smallest\n",
      " 1%            0              0\n",
      " 5%            0              0\n",
      "10%            0              0       Obs               1,922\n",
      "25%            0              0       Sum of wgt.       1,922\n",
      "\n",
      "50%            0                      Mean           2.741415\n",
      "                        Largest       Std. dev.       6.20022\n",
      "75%            2             30\n",
      "90%            8             30       Variance       38.44273\n",
      "95%           15             30       Skewness       3.168323\n",
      "99%           30             30       Kurtosis       13.02458\n",
      "\n",
      "              number of hours worked last week\n",
      "-------------------------------------------------------------\n",
      "      Percentiles      Smallest\n",
      " 1%            1              0\n",
      " 5%           15              0\n",
      "10%           20              0       Obs               1,938\n",
      "25%           37              0       Sum of wgt.       1,938\n",
      "\n",
      "50%           40                      Mean           40.18163\n",
      "                        Largest       Std. dev.      14.10734\n",
      "75%           45             89\n",
      "90%           55             89       Variance       199.0171\n",
      "95%           60             89       Skewness       .0541253\n",
      "99%           82             89       Kurtosis       4.829227\n"
     ]
    }
   ],
   "source": [
    "//H2. Spline relationship\n",
    "//DV: physhlth IV: hrs1 \n",
    "\n",
    "sum physhlth hrs1, detail"
   ]
  },
  {
   "cell_type": "code",
   "execution_count": 4,
   "metadata": {
    "tags": []
   },
   "outputs": [],
   "source": [
    "xtile hrsquant= hrs1, nq(4)\n",
    "*I am creating a new variable here (called hrsquant) that will consist of quantiles for the amount of hours worked last week\n",
    "\n",
    "*I specified that I want 4 quantiles for this variable with the option \"nq(4)\"\n",
    "\n",
    "*4 quantile means that there would be these categories:\n",
    "    * 1 = 0-25% percentile\n",
    "    * 2 = 25-50% percentile\n",
    "    * 3 = 50-75% percentile\n",
    "    * 4 = 75-100% percentile"
   ]
  },
  {
   "cell_type": "code",
   "execution_count": 5,
   "metadata": {
    "tags": []
   },
   "outputs": [
    {
     "name": "stdout",
     "output_type": "stream",
     "text": [
      "\n",
      "-------------------------------------------------------------------------------\n",
      "hrsquant                                                    4 quantiles of hrs1\n",
      "-------------------------------------------------------------------------------\n",
      "\n",
      "                  Type: Numeric (byte)\n",
      "\n",
      "                 Range: [1,4]                         Units: 1\n",
      "         Unique values: 4                         Missing .: 1,606/3,544\n",
      "\n",
      "            Tabulation: Freq.  Value\n",
      "                          495  1\n",
      "                          802  2\n",
      "                          181  3\n",
      "                          460  4\n",
      "                        1,606  .\n"
     ]
    }
   ],
   "source": [
    "codebook hrsquant"
   ]
  },
  {
   "cell_type": "code",
   "execution_count": 6,
   "metadata": {
    "tags": []
   },
   "outputs": [
    {
     "name": "stdout",
     "output_type": "stream",
     "text": [
      "\n",
      "4 quantiles |\n",
      "    of hrs1 |      Freq.     Percent        Cum.\n",
      "------------+-----------------------------------\n",
      "          1 |        495       25.54       25.54\n",
      "          2 |        802       41.38       66.92\n",
      "          3 |        181        9.34       76.26\n",
      "          4 |        460       23.74      100.00\n",
      "------------+-----------------------------------\n",
      "      Total |      1,938      100.00\n"
     ]
    }
   ],
   "source": [
    "tab hrsquant"
   ]
  },
  {
   "cell_type": "code",
   "execution_count": 7,
   "metadata": {
    "tags": []
   },
   "outputs": [
    {
     "name": "stdout",
     "output_type": "stream",
     "text": [
      "\n",
      "              number of hours worked last week\n",
      "-------------------------------------------------------------\n",
      "      Percentiles      Smallest\n",
      " 1%            1              0\n",
      " 5%           15              0\n",
      "10%           20              0       Obs               1,938\n",
      "25%           37              0       Sum of wgt.       1,938\n",
      "\n",
      "50%           40                      Mean           40.18163\n",
      "                        Largest       Std. dev.      14.10734\n",
      "75%           45             89\n",
      "90%           55             89       Variance       199.0171\n",
      "95%           60             89       Skewness       .0541253\n",
      "99%           82             89       Kurtosis       4.829227\n",
      "\n",
      "4 quantiles |\n",
      "    of hrs1 |      Freq.     Percent        Cum.\n",
      "------------+-----------------------------------\n",
      "          1 |        495       25.54       25.54\n",
      "          2 |        802       41.38       66.92\n",
      "          3 |        181        9.34       76.26\n",
      "          4 |        460       23.74      100.00\n",
      "------------+-----------------------------------\n",
      "      Total |      1,938      100.00\n"
     ]
    }
   ],
   "source": [
    "sum hrs1, detail\n",
    "tab hrsquant"
   ]
  },
  {
   "cell_type": "code",
   "execution_count": 8,
   "metadata": {
    "tags": []
   },
   "outputs": [
    {
     "data": {
      "text/html": [
       "<div>\n",
       "<style scoped>\n",
       "    .dataframe tbody tr th:only-of-type {\n",
       "        vertical-align: middle;\n",
       "    }\n",
       "\n",
       "    .dataframe tbody tr th {\n",
       "        vertical-align: top;\n",
       "    }\n",
       "\n",
       "    .dataframe thead th {\n",
       "        text-align: right;\n",
       "    }\n",
       "</style>\n",
       "<table border=\"1\" class=\"dataframe\">\n",
       "  <thead>\n",
       "    <tr style=\"text-align: right;\">\n",
       "      <th></th>\n",
       "      <th>physhlth</th>\n",
       "      <th>hrs1</th>\n",
       "      <th>hrsquant</th>\n",
       "    </tr>\n",
       "  </thead>\n",
       "  <tbody>\n",
       "    <tr>\n",
       "      <th>1</th>\n",
       "      <td></td>\n",
       "      <td></td>\n",
       "      <td>2</td>\n",
       "    </tr>\n",
       "    <tr>\n",
       "      <th>2</th>\n",
       "      <td>iap</td>\n",
       "      <td>iap</td>\n",
       "      <td>.</td>\n",
       "    </tr>\n",
       "    <tr>\n",
       "      <th>3</th>\n",
       "      <td></td>\n",
       "      <td></td>\n",
       "      <td>4</td>\n",
       "    </tr>\n",
       "    <tr>\n",
       "      <th>4</th>\n",
       "      <td></td>\n",
       "      <td>iap</td>\n",
       "      <td>.</td>\n",
       "    </tr>\n",
       "    <tr>\n",
       "      <th>5</th>\n",
       "      <td>iap</td>\n",
       "      <td>iap</td>\n",
       "      <td>.</td>\n",
       "    </tr>\n",
       "  </tbody>\n",
       "</table>\n",
       "</div>"
      ]
     },
     "metadata": {},
     "output_type": "display_data"
    }
   ],
   "source": [
    "%head physhlth hrs1 hrsquant"
   ]
  },
  {
   "cell_type": "code",
   "execution_count": 9,
   "metadata": {
    "tags": []
   },
   "outputs": [
    {
     "name": "stdout",
     "output_type": "stream",
     "text": [
      "\n",
      "    Variable |        Obs        Mean    Std. dev.       Min        Max\n",
      "-------------+---------------------------------------------------------\n",
      "        hrs1 |        802    39.93766    .3405269         38         40\n"
     ]
    }
   ],
   "source": [
    "*I believe there is one knot, and that occurs in the middle quantile (2nd quantile)\n",
    "    *getting the average/mean for hours worked/week that fall into the 2nd quantile\n",
    "\n",
    "sum hrs1 if hrsquant==2"
   ]
  },
  {
   "cell_type": "code",
   "execution_count": 10,
   "metadata": {
    "tags": []
   },
   "outputs": [],
   "source": [
    "*making the spline variables\n",
    "\n",
    "mkspline hrsworked2 39.93766 hrsworked3= hrs1"
   ]
  },
  {
   "cell_type": "code",
   "execution_count": 11,
   "metadata": {
    "tags": []
   },
   "outputs": [
    {
     "name": "stdout",
     "output_type": "stream",
     "text": [
      "(bin=32, start=0, width=1.2480519)\n"
     ]
    },
    {
     "data": {
      "image/png": "[encoded data removed]",
      "text/plain": [
       "<IPython.core.display.Image object>"
      ]
     },
     "metadata": {},
     "output_type": "display_data"
    }
   ],
   "source": [
    "histogram hrsworked2, name(hist1)"
   ]
  },
  {
   "cell_type": "code",
   "execution_count": 12,
   "metadata": {
    "tags": []
   },
   "outputs": [
    {
     "name": "stdout",
     "output_type": "stream",
     "text": [
      "(bin=32, start=0, width=1.5331981)\n"
     ]
    },
    {
     "data": {
      "image/png": "[encoded data removed]",
      "text/plain": [
       "<IPython.core.display.Image object>"
      ]
     },
     "metadata": {},
     "output_type": "display_data"
    }
   ],
   "source": [
    "histogram hrsworked3, name(hist2)"
   ]
  },
  {
   "cell_type": "code",
   "execution_count": 13,
   "metadata": {
    "tags": []
   },
   "outputs": [
    {
     "name": "stdout",
     "output_type": "stream",
     "text": [
      "\n",
      "      Source |       SS           df       MS      Number of obs   =     1,828\n",
      "-------------+----------------------------------   F(2, 1825)      =      6.42\n",
      "       Model |  424.944693         2  212.472347   Prob > F        =    0.0017\n",
      "    Residual |  60419.8781     1,825  33.1067825   R-squared       =    0.0070\n",
      "-------------+----------------------------------   Adj R-squared   =    0.0059\n",
      "       Total |  60844.8228     1,827  33.3031323   Root MSE        =    5.7538\n",
      "\n",
      "------------------------------------------------------------------------------\n",
      "    physhlth | Coefficient  Std. err.      t    P>|t|     [95% conf. interval]\n",
      "-------------+----------------------------------------------------------------\n",
      "  hrsworked2 |  -.0485746   .0154399    -3.15   0.002    -.0788562   -.0182929\n",
      "  hrsworked3 |  -.0135105   .0154424    -0.87   0.382    -.0437971    .0167761\n",
      "       _cons |   4.280292   .5524591     7.75   0.000     3.196774    5.363811\n",
      "------------------------------------------------------------------------------\n",
      "(option xb assumed; fitted values)\n",
      "(1,606 missing values generated)\n"
     ]
    },
    {
     "data": {
      "image/png": "[encoded data removed]",
      "text/plain": [
       "<IPython.core.display.Image object>"
      ]
     },
     "metadata": {},
     "output_type": "display_data"
    }
   ],
   "source": [
    "*Now let's run the regression output for this spline model and examine the graph for it\n",
    "\n",
    "reg physhlth hrsworked2 hrsworked3\n",
    "predict yhat\n",
    "\n",
    "\n",
    "*Graph the fited spline lines for college net price\n",
    "tw (scatter physhlth hrs1) (line yhat physhlth, sort color(red) lwidth(thick))"
   ]
  },
  {
   "cell_type": "markdown",
   "metadata": {},
   "source": [
    "## 3. Interpret the results [1 pt]\n",
    "\n",
    "    A. Say whether the results support or contradict your hypothesis and why\n",
    "    \n",
    "    B. Say whether a linear or particular non-linear model best describes your data and why"
   ]
  },
  {
   "cell_type": "markdown",
   "metadata": {},
   "source": [
    "A. (I think*) The results show some support my first hypothesis, since the exponentiated factor shows a negative correlation, and the log model shows that days of poor health experienced gradually decline with increasing income. However, it does not seem there is any support from the models ran for my second hypothesis seeing as the spline model does not represent my data and the coefficients are small and not positive.\n",
    "\n",
    "B.\n",
    "H1: Non-linear log model: \n",
    "Eyeballing this model, it appears that this log model is a great fit for my data. I then exponentiate the estimated coefficients by 10 since I did a log of 10. As a result of exponentiating the estimated coefficient by 10, I receive the multiplicative factor for every one-unit increase in the coefficient of income in dollars by 10.\n",
    "\n",
    "-1.468818 becomes 10^(-1.468818), which is equal to approximately -0.034\n",
    "\n",
    "My interpretation: For every one unit increase in income, days of poor health experienced in a month decreases by a factor of 0.03%. \n",
    "\n",
    "I would say that this model best supports my data because it represents the gradual decline of poor health days with increasing income, and begins to plateau, at that point fitting the linear model. Thus, it is more representative of the pattern in the data.\n",
    "\n",
    "\n",
    "H2: Non-linear spline model: \n",
    "This model appears be conveying a cryptic message to me, but let's just say, it's hard to interpret what it says. If I had to guess what it was telling me, it's that this model is inappropriate for modeling the relationship between days of poor physical health and hours worked. We have a very small R-squared for the spline model, representing that the model is not representative of what's going on in the data. The p values are less than 0.05 indicating confidence in our beta coefficients, however, there is little confidence in whether or not the variation in physical health is epxlained by the amount of hours someone worked that week. "
   ]
  },
  {
   "cell_type": "code",
   "execution_count": null,
   "metadata": {},
   "outputs": [],
   "source": []
  },
  {
   "cell_type": "code",
   "execution_count": null,
   "metadata": {},
   "outputs": [],
   "source": []
  }
 ],
 "metadata": {
  "kernelspec": {
   "display_name": "Stata (nbstata)",
   "language": "stata",
   "name": "nbstata"
  },
  "language_info": {
   "file_extension": ".do",
   "mimetype": "text/x-stata",
   "name": "stata",
   "version": "17"
  }
 },
 "nbformat": 4,
 "nbformat_minor": 4
}
