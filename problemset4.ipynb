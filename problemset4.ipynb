{
 "cells": [
  {
   "cell_type": "markdown",
   "metadata": {},
   "source": [
    "# Problem set 4\n",
    "\n",
    "\n",
    "Emily Ernst\n",
    "\n",
    "Problem Set 4: Attitudes about U.S. Government Spending in Individual Disaster Relief by Income\n",
    "\n",
    "15 March, 2024"
   ]
  },
  {
   "cell_type": "code",
   "execution_count": 77,
   "metadata": {
    "tags": []
   },
   "outputs": [
    {
     "name": "stdout",
     "output_type": "stream",
     "text": [
      "/Users/emilyernst/Desktop/garden\n"
     ]
    }
   ],
   "source": [
    "cd /Users/emilyernst/Desktop/garden"
   ]
  },
  {
   "cell_type": "code",
   "execution_count": 78,
   "metadata": {
    "tags": []
   },
   "outputs": [],
   "source": [
    "use \"/Users/emilyernst/Desktop/garden/potentialdata/GSS/GSS2006.dta\" , clear"
   ]
  },
  {
   "cell_type": "code",
   "execution_count": 80,
   "metadata": {
    "tags": []
   },
   "outputs": [
    {
     "name": "stdout",
     "output_type": "stream",
     "text": [
      "natdiscm  natdisin  race      rincome   sex       educ\n"
     ]
    }
   ],
   "source": [
    "eststo clear\n",
    "ds natdiscm natdisin race rincome sex educ"
   ]
  },
  {
   "cell_type": "code",
   "execution_count": 81,
   "metadata": {
    "tags": []
   },
   "outputs": [],
   "source": [
    "keep natdiscm natdisin race rincome sex educ"
   ]
  },
  {
   "cell_type": "markdown",
   "metadata": {},
   "source": [
    "## 1. Visually assess heteroscedasticity [1 pt]\n",
    "\n",
    "    A. Create a scatterplot of a dependent variable and independent variable of interest from a dataset of your choice.\n",
    "    \n",
    "\n",
    "    B. Include a fitted line with an area graph of the confidence interval for the prediction.\n",
    "    \n",
    "    C. Write a couple sentences describing how the distribution of the data in the graph does or does not appear to be heteroscedastic.\n"
   ]
  },
  {
   "cell_type": "code",
   "execution_count": 36,
   "metadata": {
    "tags": []
   },
   "outputs": [
    {
     "name": "stdout",
     "output_type": "stream",
     "text": [
      "\n",
      "-------------------------------------------------------------------------------\n",
      "natdiscm                   should rebuilding community in disaster be govt resp\n",
      "-------------------------------------------------------------------------------\n",
      "\n",
      "                  Type: Numeric (byte)\n",
      "                 Label: NATDISCA\n",
      "\n",
      "                 Range: [1,2]                         Units: 1\n",
      "         Unique values: 2                         Missing .: 0/4,510\n",
      "       Unique mv codes: 3                        Missing .*: 3,017/4,510\n",
      "\n",
      "            Tabulation: Freq.   Numeric  Label\n",
      "                        1,333         1  should\n",
      "                          160         2  should not be\n",
      "                           24        .d  don't know\n",
      "                        2,992        .i  iap\n",
      "                            1        .n  no answer\n",
      "\n",
      "-------------------------------------------------------------------------------\n",
      "natdisin                    should helping ppl in natural disaster be govt resp\n",
      "-------------------------------------------------------------------------------\n",
      "\n",
      "                  Type: Numeric (byte)\n",
      "                 Label: NATDISCA\n",
      "\n",
      "                 Range: [1,2]                         Units: 1\n",
      "         Unique values: 2                         Missing .: 0/4,510\n",
      "       Unique mv codes: 3                        Missing .*: 3,011/4,510\n",
      "\n",
      "            Tabulation: Freq.   Numeric  Label\n",
      "                        1,368         1  should\n",
      "                          131         2  should not be\n",
      "                           18        .d  don't know\n",
      "                        2,992        .i  iap\n",
      "                            1        .n  no answer\n"
     ]
    }
   ],
   "source": [
    "codebook natdiscm natdisin "
   ]
  },
  {
   "cell_type": "code",
   "execution_count": 38,
   "metadata": {
    "tags": []
   },
   "outputs": [
    {
     "name": "stdout",
     "output_type": "stream",
     "text": [
      "\n",
      "-------------------------------------------------------------------------------\n",
      "gov_rebuild                                                         (unlabeled)\n",
      "-------------------------------------------------------------------------------\n",
      "\n",
      "                  Type: Numeric (float)\n",
      "\n",
      "                 Range: [1,2]                         Units: 1\n",
      "         Unique values: 2                         Missing .: 0/4,510\n",
      "       Unique mv codes: 3                        Missing .*: 3,017/4,510\n",
      "\n",
      "            Tabulation: Freq.  Value\n",
      "                        1,333  1\n",
      "                          160  2\n",
      "                           24  .d\n",
      "                        2,992  .i\n",
      "                            1  .n\n"
     ]
    }
   ],
   "source": [
    "codebook gov_rebuild"
   ]
  },
  {
   "cell_type": "code",
   "execution_count": 83,
   "metadata": {
    "tags": []
   },
   "outputs": [
    {
     "name": "stdout",
     "output_type": "stream",
     "text": [
      "(24 real changes made, 24 to missing)\n",
      "(2,992 real changes made, 2,992 to missing)\n",
      "(1 real change made, 1 to missing)\n"
     ]
    }
   ],
   "source": [
    "replace gov_rebuild=. if natdiscm==.d\n",
    "replace gov_rebuild=. if natdiscm==.i\n",
    "replace gov_rebuild=. if natdiscm==.n"
   ]
  },
  {
   "cell_type": "code",
   "execution_count": 84,
   "metadata": {
    "tags": []
   },
   "outputs": [
    {
     "name": "stdout",
     "output_type": "stream",
     "text": [
      "(160 real changes made)\n",
      "(0 real changes made)\n"
     ]
    }
   ],
   "source": [
    "replace gov_rebuild=0 if natdiscm==2\n",
    "replace gov_rebuild=1 if natdiscm==1"
   ]
  },
  {
   "cell_type": "code",
   "execution_count": 85,
   "metadata": {
    "tags": []
   },
   "outputs": [
    {
     "name": "stdout",
     "output_type": "stream",
     "text": [
      "\n",
      "gov_rebuil |  should rebuilding community in disaster be govt resp\n",
      "         d |    should  should no  don't kno        iap  no answer |     Total\n",
      "-----------+-------------------------------------------------------+----------\n",
      "         0 |         0        160          0          0          0 |       160 \n",
      "         1 |     1,333          0          0          0          0 |     1,333 \n",
      "         . |         0          0         24      2,992          1 |     3,017 \n",
      "-----------+-------------------------------------------------------+----------\n",
      "     Total |     1,333        160         24      2,992          1 |     4,510 \n"
     ]
    }
   ],
   "source": [
    "tab gov_rebuild natdiscm, missing"
   ]
  },
  {
   "cell_type": "code",
   "execution_count": 86,
   "metadata": {
    "tags": []
   },
   "outputs": [
    {
     "name": "stdout",
     "output_type": "stream",
     "text": [
      "(3,011 missing values generated)\n",
      "(18 real changes made, 18 to missing)\n",
      "(2,992 real changes made, 2,992 to missing)\n",
      "(1 real change made, 1 to missing)\n"
     ]
    }
   ],
   "source": [
    "gen gov_disrelief=natdisin\n",
    "replace gov_disrelief=. if natdisin==.d\n",
    "replace gov_disrelief=. if natdisin==.i\n",
    "replace gov_disrelief=. if natdisin==.n"
   ]
  },
  {
   "cell_type": "code",
   "execution_count": 87,
   "metadata": {
    "tags": []
   },
   "outputs": [
    {
     "name": "stdout",
     "output_type": "stream",
     "text": [
      "(131 real changes made)\n",
      "(0 real changes made)\n"
     ]
    }
   ],
   "source": [
    "replace gov_disrelief=0 if natdisin==2\n",
    "replace gov_disrelief=1 if natdisin==1"
   ]
  },
  {
   "cell_type": "code",
   "execution_count": 88,
   "metadata": {
    "tags": []
   },
   "outputs": [
    {
     "name": "stdout",
     "output_type": "stream",
     "text": [
      "\n",
      "gov_disrel |  should helping ppl in natural disaster be govt resp\n",
      "       ief |    should  should no  don't kno        iap  no answer |     Total\n",
      "-----------+-------------------------------------------------------+----------\n",
      "         0 |         0        131          0          0          0 |       131 \n",
      "         1 |     1,368          0          0          0          0 |     1,368 \n",
      "         . |         0          0         18      2,992          1 |     3,011 \n",
      "-----------+-------------------------------------------------------+----------\n",
      "     Total |     1,368        131         18      2,992          1 |     4,510 \n"
     ]
    }
   ],
   "source": [
    "tab gov_disrelief natdisin, missing"
   ]
  },
  {
   "cell_type": "code",
   "execution_count": 89,
   "metadata": {
    "tags": []
   },
   "outputs": [],
   "source": [
    "label define gov_disrelief 0 \"No\" 1 \"Yes\""
   ]
  },
  {
   "cell_type": "code",
   "execution_count": 90,
   "metadata": {
    "tags": []
   },
   "outputs": [],
   "source": [
    "label values gov_disrelief gov_disrelief"
   ]
  },
  {
   "cell_type": "code",
   "execution_count": 91,
   "metadata": {
    "tags": []
   },
   "outputs": [
    {
     "name": "stdout",
     "output_type": "stream",
     "text": [
      "\n",
      "-------------------------------------------------------------------------------\n",
      "gov_disrelief                                                       (unlabeled)\n",
      "-------------------------------------------------------------------------------\n",
      "\n",
      "                  Type: Numeric (float)\n",
      "                 Label: gov_disrelief\n",
      "\n",
      "                 Range: [0,1]                         Units: 1\n",
      "         Unique values: 2                         Missing .: 3,011/4,510\n",
      "\n",
      "            Tabulation: Freq.   Numeric  Label\n",
      "                          131         0  No\n",
      "                        1,368         1  Yes\n",
      "                        3,011         .  \n"
     ]
    }
   ],
   "source": [
    "codebook gov_disrelief"
   ]
  },
  {
   "cell_type": "code",
   "execution_count": 92,
   "metadata": {
    "tags": []
   },
   "outputs": [
    {
     "name": "stdout",
     "output_type": "stream",
     "text": [
      "\n",
      "-------------------------------------------------------------------------------\n",
      "race                                                         race of respondent\n",
      "-------------------------------------------------------------------------------\n",
      "\n",
      "                  Type: Numeric (byte)\n",
      "                 Label: RACE\n",
      "\n",
      "                 Range: [1,3]                         Units: 1\n",
      "         Unique values: 3                         Missing .: 0/4,510\n",
      "\n",
      "            Tabulation: Freq.   Numeric  Label\n",
      "                        3,284         1  white\n",
      "                          634         2  black\n",
      "                          592         3  other\n"
     ]
    }
   ],
   "source": [
    "codebook race"
   ]
  },
  {
   "cell_type": "code",
   "execution_count": 93,
   "metadata": {
    "tags": []
   },
   "outputs": [],
   "source": [
    "label define race 1 \"white\" 2 \"Black\" 3 \"other\""
   ]
  },
  {
   "cell_type": "code",
   "execution_count": 94,
   "metadata": {
    "tags": []
   },
   "outputs": [],
   "source": [
    "label values race race"
   ]
  },
  {
   "cell_type": "code",
   "execution_count": 95,
   "metadata": {},
   "outputs": [],
   "source": [
    "%set graph_height = 8"
   ]
  },
  {
   "cell_type": "code",
   "execution_count": 96,
   "metadata": {
    "tags": []
   },
   "outputs": [],
   "source": [
    "%set graph_width = 11"
   ]
  },
  {
   "cell_type": "code",
   "execution_count": 97,
   "metadata": {
    "tags": []
   },
   "outputs": [
    {
     "data": {
      "image/png": "[encoded data removed]",
      "text/plain": [
       "<IPython.core.display.Image object>"
      ]
     },
     "metadata": {},
     "output_type": "display_data"
    }
   ],
   "source": [
    "* PART A & B: Scatterplot between a nominal dependent variable and a nominal independent variable\n",
    "* gov_disrelief and race\n",
    "tw (scatter gov_disrelief race) ///\n",
    "(lfitci gov_disrelief race), ///\n",
    "ytitle(disaster relief, size(large)) ///\n",
    "xtitle(,size(large)) legend(off) scheme(538w) ///\n",
    "title(\"Attitudes: should government help people after disasters by race\" \" \", span size(large)) ///\n",
    "aspect(1, place(west))"
   ]
  },
  {
   "cell_type": "code",
   "execution_count": 98,
   "metadata": {
    "tags": []
   },
   "outputs": [
    {
     "data": {
      "image/png": "[encoded data removed]",
      "text/plain": [
       "<IPython.core.display.Image object>"
      ]
     },
     "metadata": {},
     "output_type": "display_data"
    }
   ],
   "source": [
    "* PART A & B: Scatterplot between a nominal dependent variable and an interval ratio independent variable\n",
    "* gov_disrelief and race\n",
    "tw (scatter gov_disrelief rincome) ///\n",
    "(lfitci gov_disrelief rincome), ///\n",
    "ytitle(disaster relief, size(large)) ///\n",
    "xtitle(,size(large)) legend(off) scheme(538w) ///\n",
    "title(\"Attitudes: should government help people after disasters by Income\" \" \", span size(large)) ///\n",
    "aspect(1, place(west))"
   ]
  },
  {
   "cell_type": "code",
   "execution_count": 99,
   "metadata": {
    "tags": []
   },
   "outputs": [
    {
     "name": "stdout",
     "output_type": "stream",
     "text": [
      "\n",
      "           respondents income |      Freq.     Percent        Cum.\n",
      "------------------------------+-----------------------------------\n",
      "                 under $1,000 |         53        1.99        1.99\n",
      "             $1,000 to $2,999 |         75        2.81        4.80\n",
      "             $3,000 to $3,999 |         47        1.76        6.56\n",
      "             $4,000 to $4,999 |         53        1.99        8.54\n",
      "             $5,000 to $5,999 |         41        1.54       10.08\n",
      "             $6,000 to $6,999 |         42        1.57       11.65\n",
      "             $7,000 to $7,999 |         37        1.39       13.04\n",
      "             $8,000 to $9,999 |         61        2.29       15.32\n",
      "           $10,000 to $14,999 |        231        8.65       23.98\n",
      "           $15,000 to $19,999 |        221        8.28       32.26\n",
      "           $20,000 to $24,999 |        248        9.29       41.55\n",
      "              $25,000 or more |      1,560       58.45      100.00\n",
      "------------------------------+-----------------------------------\n",
      "                        Total |      2,669      100.00\n"
     ]
    }
   ],
   "source": [
    "tab rincome"
   ]
  },
  {
   "cell_type": "code",
   "execution_count": null,
   "metadata": {},
   "outputs": [],
   "source": [
    "**I ran scatter plots for two bivariate relationships and saw little heteroscadacity between both nominal and interval ///\n",
    "**independent variables (race and realrincome) on my nominal variable (gov_disrelief). By eyeballing, it looks like ///\n",
    "**though the plots aren't displaying anything interpretable/significant we can see that the estimates are equidistant from///\n",
    "**the fitted line."
   ]
  },
  {
   "cell_type": "markdown",
   "metadata": {},
   "source": [
    "## 2. Test for heteroscedasticity [1 pt]\n",
    "\n",
    "    A. Do a Breusch-Pagan postestimation test for heteroscedasticity in your dependent variable and independent variable relationship.\n",
    "\n",
    "    B. Reestimate the regression after logging the DV or IV if appropriate and do another Breusch-Pagan test. Does logging reduce heteroscedasticity?"
   ]
  },
  {
   "cell_type": "code",
   "execution_count": 100,
   "metadata": {},
   "outputs": [
    {
     "name": "stdout",
     "output_type": "stream",
     "text": [
      "\n",
      "Breusch–Pagan/Cook–Weisberg test for heteroskedasticity \n",
      "Assumption: Normal error terms\n",
      "Variable: Fitted values of gov_disrelief\n",
      "\n",
      "H0: Constant variance\n",
      "\n",
      "    chi2(1) =  19.14\n",
      "Prob > chi2 = 0.0000\n"
     ]
    }
   ],
   "source": [
    "*PART A: Breusch-Pagan test\n",
    "// Running basic regression first before doing any postestimation command\n",
    "\n",
    "quietly reg gov_disrelief rincome \n",
    "estat hettest"
   ]
  },
  {
   "cell_type": "code",
   "execution_count": null,
   "metadata": {},
   "outputs": [],
   "source": [
    "WHAT CHARLIE STATED IN LECTURE: \"A large chi2 statistic and low probability for chi2 indicates that ///\n",
    "heteroskedasticity is a problem.\"\n",
    "\n",
    "Why is this? The Breusch-Pagan test has a null hypothesis that the variance of the residuals is constant. ///\n",
    "The alternative hypothesis is that the variance of the residuals is NOT constant (which is heteroscedasticity). ///\n",
    "If the p-value is less than 0.05, you can reject the null hypothesis.\n",
    "\n",
    "LOOKING AT MINE: (focusing on the p-value)\n",
    "\n",
    "Degrees of freedom is 1 (representing that I have only one independent variable in my model).\n",
    "Since the p-value of 0.0000 is less than 0.05, I am rejecting the null hypothesis of constant variance. ///\n",
    "This suggests that there is statistically significant evidence of heteroscedasticity in my model."
   ]
  },
  {
   "cell_type": "code",
   "execution_count": 70,
   "metadata": {
    "tags": []
   },
   "outputs": [
    {
     "name": "stdout",
     "output_type": "stream",
     "text": [
      "(1,841 missing values generated)\n",
      "\n",
      "Breusch–Pagan/Cook–Weisberg test for heteroskedasticity \n",
      "Assumption: Normal error terms\n",
      "Variable: Fitted values of gov_disrelief\n",
      "\n",
      "H0: Constant variance\n",
      "\n",
      "    chi2(1) =  17.80\n",
      "Prob > chi2 = 0.0000\n"
     ]
    }
   ],
   "source": [
    "*PART B: Logging ind variable\n",
    "\n",
    "gen rincomeln = log(rincome)\n",
    "\n",
    "quietly reg gov_disrelief rincomeln \n",
    "estat hettest"
   ]
  },
  {
   "cell_type": "code",
   "execution_count": null,
   "metadata": {},
   "outputs": [],
   "source": [
    "*after logging income, the test shows that there is still heteroscedacity present "
   ]
  },
  {
   "cell_type": "markdown",
   "metadata": {},
   "source": [
    "## 3. Boot strap your standard errors [1 pt.]\n",
    "\n",
    "    A. Quietly reestimate your regression coefficient with convential OLS and store the results.\n",
    "    \n",
    "    B. Quietly reestimate your regression with bootstrapped standard errors and store the results.\n",
    "    \n",
    "    C. Use esttab to output the results of the two models and tell us how the bootstrap standard erros differ from the conventional results.\n",
    "    \n",
    "    D. Explain in your own words what the bootstrap procedure is doing and why it yields similar or different standard errors to the convential model."
   ]
  },
  {
   "cell_type": "code",
   "execution_count": 71,
   "metadata": {},
   "outputs": [
    {
     "name": "stdout",
     "output_type": "stream",
     "text": [
      "(est1 stored)\n"
     ]
    }
   ],
   "source": [
    "*PART A: Basic OLS\n",
    "\n",
    "eststo: quietly reg gov_disrelief rincomeln \n"
   ]
  },
  {
   "cell_type": "code",
   "execution_count": 73,
   "metadata": {
    "tags": []
   },
   "outputs": [
    {
     "name": "stdout",
     "output_type": "stream",
     "text": [
      "(est2 stored)\n"
     ]
    }
   ],
   "source": [
    "*PART B: OLS with Bootstrapped standard errors\n",
    "\n",
    "eststo: quietly bootstrap _b[rincomeln], rep(1000) nodots : ///\n",
    "    reg gov_disrelief rincomeln "
   ]
  },
  {
   "cell_type": "code",
   "execution_count": 74,
   "metadata": {
    "tags": []
   },
   "outputs": [
    {
     "name": "stdout",
     "output_type": "stream",
     "text": [
      "\n",
      "--------------------------------------------\n",
      "                      (1)             (2)   \n",
      "                      OLS       Bootstrap   \n",
      "--------------------------------------------\n",
      "rincomeln           -0.04^                  \n",
      "                   (0.02)                   \n",
      "_bs_1                               -0.04** \n",
      "                                   (0.01)   \n",
      "_cons                1.00***                \n",
      "                   (0.04)                   \n",
      "--------------------------------------------\n",
      "N                     923             923   \n",
      "--------------------------------------------\n"
     ]
    }
   ],
   "source": [
    "* PART C: Creating the table\n",
    "\n",
    "esttab, ///\n",
    "mlabels(\"OLS\" \"Bootstrap\") ///\n",
    "collabels(none)  ///\n",
    "cells(b(star fmt(2)) se(fmt(2) par)) ///\n",
    "starlevels(^ .1 * .05 ** .01 *** .001)"
   ]
  },
  {
   "cell_type": "code",
   "execution_count": null,
   "metadata": {},
   "outputs": [],
   "source": [
    "There is no change between the standard error, and a very small decrease in the bootstrap estimate which indicates that ///\n",
    "OLS is already robust on its own, even with the uncertainty of variability within my coefficient. However, the statistical ///\n",
    "significance decreases in the bootstrap coefficient. \n",
    "This means that my original SEs already provide a good estimate of the variability in my data, and the bootstrap sample ///\n",
    "that was generated is very similar to the original sample, but I am unsure what the change in statistical probability indicates."
   ]
  },
  {
   "cell_type": "markdown",
   "metadata": {},
   "source": [
    "## 4. Estimate robust standard errors [1 pt]\n",
    "\n",
    "    A. Reestimate your model with robust standard errors and store the results.\n",
    "    \n",
    "    B. Use esttab to output the results of the robust model alongside the conventional and bootstrap models and explain how the the results compare in 1 or 2 sentences.\n",
    "    \n",
    "    C. In your own words, explain how the robust standard errors procedure differs from conventional procedures."
   ]
  },
  {
   "cell_type": "code",
   "execution_count": 75,
   "metadata": {},
   "outputs": [
    {
     "name": "stdout",
     "output_type": "stream",
     "text": [
      "(est3 stored)\n"
     ]
    }
   ],
   "source": [
    "*PART A: OLS with Robust SEs\n",
    "\n",
    "eststo: quietly reg gov_disrelief rincomeln, robust"
   ]
  },
  {
   "cell_type": "code",
   "execution_count": 76,
   "metadata": {
    "tags": []
   },
   "outputs": [
    {
     "name": "stdout",
     "output_type": "stream",
     "text": [
      "\n",
      "------------------------------------------------------------\n",
      "                      (1)             (2)             (3)   \n",
      "                      OLS       Bootstrap          Robust   \n",
      "------------------------------------------------------------\n",
      "rincomeln           -0.04^                          -0.04** \n",
      "                   (0.02)                          (0.01)   \n",
      "_bs_1                               -0.04**                 \n",
      "                                   (0.01)                   \n",
      "_cons                1.00***                         1.00***\n",
      "                   (0.04)                          (0.03)   \n",
      "------------------------------------------------------------\n",
      "N                     923             923             923   \n",
      "------------------------------------------------------------\n"
     ]
    }
   ],
   "source": [
    "*PART B: Creating the table (again but this time with the new model too)\n",
    "\n",
    "esttab, ///\n",
    "mlabels(\"OLS\" \"Bootstrap\" \"Robust\") ///\n",
    "collabels(none)  ///\n",
    "cells(b(star fmt(2)) se(fmt(2) par)) ///\n",
    "starlevels(^ .1 * .05 ** .01 *** .001)"
   ]
  },
  {
   "cell_type": "code",
   "execution_count": null,
   "metadata": {},
   "outputs": [],
   "source": [
    "There appears to be no change in standard errors between my OLS model and the robust model. This means that weighing the ///\n",
    "estimates with larger deviations from the best line of fit, and less weight to the smaller deviations didn't change my SEs ///\n",
    "coefficients. This may indicate that the OLS method may be a good fit for the data, and heteroscedasticity ///\n",
    "may not actually exist or affect the sampling uncertainty and therefore uneven standard errors."
   ]
  },
  {
   "cell_type": "markdown",
   "metadata": {},
   "source": [
    "## 5. Cluster robust standard errors [1 pt]\n",
    "\n",
    "    A. Explain why or why not your model should be estimated with cluster robust standard errors. If yes, what is the clustering unit and why?\n",
    "    \n",
    "    B. If yes, reestimate your model with cluster robust standard errors and use esttab to output the results of the robust model alongside your other models and explain how the the results compare in 1 or 2 sentences.\n",
    "    \n",
    "    C. Write a couple sentences explaining what is the best method of standard error estimation for your models and why.\n",
    "    \n",
    "//not doing B"
   ]
  },
  {
   "cell_type": "markdown",
   "metadata": {},
   "source": [
    " While this may indicate that the OLS method may actually be a good fit for the data, and heteroscedasticity ///\n",
    "may not actually exist or affect the sampling/standard errors, I will still use the robust standard errors method to ///\n",
    "strengthen the validity of the model.[code here]"
   ]
  },
  {
   "cell_type": "markdown",
   "metadata": {},
   "source": [
    "A. My data should not be clustered because the data is cross-sectional (2006 only) so I would not need to time cluster the data. Beyond that, there are too few groups that many people could have differences within. \n",
    "\n",
    "B. Skip\n",
    "\n",
    "C. I believe the best method of standard error estimation is the Robust model. While the little change between my OLS and Robust regression models may indicate that OLS was a good fit for the data, and that observed heteroscedasticity ///\n",
    "may not actually exist or affect the sampling/standard errors, I will still use the robust standard errors method to ///\n",
    "strengthen the validity of the model. This model is more appropriate for larger sample sizes, linear models, and if there is evidence of heteroscedasticity which all criteria are relevant to my model. "
   ]
  }
 ],
 "metadata": {
  "kernelspec": {
   "display_name": "Stata (nbstata)",
   "language": "stata",
   "name": "nbstata"
  },
  "language_info": {
   "file_extension": ".do",
   "mimetype": "text/x-stata",
   "name": "stata",
   "version": "17"
  }
 },
 "nbformat": 4,
 "nbformat_minor": 4
}
