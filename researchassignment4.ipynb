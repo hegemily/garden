{
 "cells": [
  {
   "cell_type": "markdown",
   "metadata": {},
   "source": [
    "# Research assignment 4\n",
    "\n",
    "\n",
    "Emily Ernst\n",
    "\n",
    "Sociodisasters: Differential Health Outcomes Before and After Climate Disasters\n",
    "\n",
    "8 March, 2024"
   ]
  },
  {
   "cell_type": "code",
   "execution_count": 1,
   "metadata": {
    "tags": []
   },
   "outputs": [
    {
     "data": {
      "text/html": [
       "<style>div.jp-Notebook .datagrid-container {min-height: 448px; }</style>"
      ],
      "text/plain": [
       "<IPython.core.display.HTML object>"
      ]
     },
     "metadata": {},
     "output_type": "display_data"
    }
   ],
   "source": [
    "//downloading and merging data files form the CDC NHANES survey. This project will aim to determine ///\n",
    "//differential access to hospitals / care across race, class and gender. This data has no geographic ///\n",
    "//indicator, so this would be preliminary research into racial disparities (assumedly) pre-disaster///\n",
    "//scenarios. AKA I have no way of knowing if a disaster occurred here or not, but, I could take ///\n",
    "//a look at the health outcomes to capture health disparities existing in the U.S. unrelated to disasters.\n",
    "\n",
    "//Survey documentation and data files are here: ///\n",
    "//https://wwwn.cdc.gov/nchs/nhanes/continuousnhanes/default.aspx?Cycle=2017-2020\n",
    "//(demographics with health data: hospitalization rates and access to care)"
   ]
  },
  {
   "cell_type": "code",
   "execution_count": 2,
   "metadata": {
    "tags": []
   },
   "outputs": [],
   "source": [
    "copy \"https://wwwn.cdc.gov/Nchs/Nhanes/2017-2018/P_DEMO.XPT\" P_DEMO.XPT, replace\n",
    "//https://wwwn.cdc.gov/nchs/nhanes/search/datapage.aspx?Component=Demographics&Cycle=2017-2020"
   ]
  },
  {
   "cell_type": "code",
   "execution_count": 3,
   "metadata": {
    "tags": []
   },
   "outputs": [],
   "source": [
    "copy https://wwwn.cdc.gov/Nchs/Nhanes/2017-2018/P_HUQ.XPT P_HUQ.XPT, replace"
   ]
  },
  {
   "cell_type": "code",
   "execution_count": 4,
   "metadata": {
    "tags": []
   },
   "outputs": [],
   "source": [
    "//loading the data from the demographics questionnaire: \n",
    "fdause P_DEMO.xpt, clear"
   ]
  },
  {
   "cell_type": "code",
   "execution_count": 5,
   "metadata": {
    "tags": []
   },
   "outputs": [
    {
     "name": "stdout",
     "output_type": "stream",
     "text": [
      "\n",
      "Contains data\n",
      " Observations:        15,560                  \n",
      "    Variables:            29                  \n",
      "-------------------------------------------------------------------------------\n",
      "Variable      Storage   Display    Value\n",
      "    name         type    format    label      Variable label\n",
      "-------------------------------------------------------------------------------\n",
      "seqn            double  %10.0g                Respondent sequence number\n",
      "sddsrvyr        double  %10.0g                Data release cycle\n",
      "ridstatr        double  %10.0g                Interview/Examination status\n",
      "riagendr        double  %10.0g                Gender\n",
      "ridageyr        double  %10.0g                Age in years at screening\n",
      "ridagemn        double  %10.0g                Age in months at screening - 0 to\n",
      "                                                24 mos\n",
      "ridreth1        double  %10.0g                Race/Hispanic origin\n",
      "ridreth3        double  %10.0g                Race/Hispanic origin w/ NH Asian\n",
      "ridexmon        double  %10.0g                Six month time period\n",
      "dmdborn4        double  %10.0g                Country of birth\n",
      "dmdyrusz        double  %10.0g                Length of time in US\n",
      "dmdeduc2        double  %10.0g                Education level - Adults 20+\n",
      "dmdmartz        double  %10.0g                Marital status\n",
      "ridexprg        double  %10.0g                Pregnancy status at exam\n",
      "sialang         double  %10.0g                Language of SP Interview\n",
      "siaproxy        double  %10.0g                Proxy used in SP Interview?\n",
      "siaintrp        double  %10.0g                Interpreter used in SP Interview?\n",
      "fialang         double  %10.0g                Language of Family Interview\n",
      "fiaproxy        double  %10.0g                Proxy used in Family Interview?\n",
      "fiaintrp        double  %10.0g                Interpreter used in Family\n",
      "                                                Interview?\n",
      "mialang         double  %10.0g                Language of MEC Interview\n",
      "miaproxy        double  %10.0g                Proxy used in MEC Interview?\n",
      "miaintrp        double  %10.0g                Interpreter used in MEC\n",
      "                                                Interview?\n",
      "aialanga        double  %10.0g                Language of ACASI Interview\n",
      "wtintprp        double  %10.0g                Full sample interview weight\n",
      "wtmecprp        double  %10.0g                Full sample MEC exam weight\n",
      "sdmvpsu         double  %10.0g                Masked variance pseudo-PSU\n",
      "sdmvstra        double  %10.0g                Masked variance pseudo-stratum\n",
      "indfmpir        double  %10.0g                Ratio of family income to poverty\n",
      "-------------------------------------------------------------------------------\n",
      "Sorted by: \n",
      "     Note: Dataset has changed since last saved.\n"
     ]
    }
   ],
   "source": [
    "describe"
   ]
  },
  {
   "cell_type": "code",
   "execution_count": 6,
   "metadata": {
    "tags": []
   },
   "outputs": [
    {
     "name": "stdout",
     "output_type": "stream",
     "text": [
      "\n",
      "-------------------------------------------------------------------------------\n",
      "ridreth3                                       Race/Hispanic origin w/ NH Asian\n",
      "-------------------------------------------------------------------------------\n",
      "\n",
      "                  Type: Numeric (double)\n",
      "\n",
      "                 Range: [1,7]                         Units: 1\n",
      "         Unique values: 6                         Missing .: 0/15,560\n",
      "\n",
      "            Tabulation: Freq.  Value\n",
      "                        1,990  1\n",
      "                        1,544  2\n",
      "                        5,271  3\n",
      "                        4,098  4\n",
      "                        1,638  6\n",
      "                        1,019  7\n"
     ]
    }
   ],
   "source": [
    "codebook ridreth3"
   ]
  },
  {
   "cell_type": "code",
   "execution_count": 7,
   "metadata": {
    "tags": []
   },
   "outputs": [
    {
     "name": "stdout",
     "output_type": "stream",
     "text": [
      "(13,570 missing values generated)\n",
      "(1,544 real changes made)\n",
      "variable race was str16 now str18\n",
      "(5,271 real changes made)\n",
      "(4,098 real changes made)\n",
      "(1,638 real changes made)\n",
      "variable race was str18 now str35\n",
      "(1,019 real changes made)\n"
     ]
    }
   ],
   "source": [
    "/*\n",
    "1\tMexican American\t1990\t1990\t\n",
    "2\tOther Hispanic\t1544\t3534\t\n",
    "3\tNon-Hispanic White\t5271\t8805\t\n",
    "4\tNon-Hispanic Black\t4098\t12903\t\n",
    "6\tNon-Hispanic Asian\t1638\t14541\t\n",
    "7\tOther Race - Including Multi-Racial\t1019\t15560\t\n",
    ".\tMissing */\n",
    "gen race=\"Mexican American\" if ridreth3==1 \n",
    "replace race=\"Other Hispanic\" if ridreth3==2 \n",
    "replace race=\"Non-Hispanic White\" if ridreth3==3 \n",
    "replace race=\"Non-Hispanic Black\" if ridreth3==4\n",
    "replace race=\"Non-Hispanic Asian\" if ridreth3==6\n",
    "replace race=\"Other Race - Including Multi-Racial\" if ridreth3==7"
   ]
  },
  {
   "cell_type": "code",
   "execution_count": 8,
   "metadata": {
    "tags": []
   },
   "outputs": [
    {
     "name": "stdout",
     "output_type": "stream",
     "text": [
      "\n",
      "-------------------------------------------------------------------------------\n",
      "race                                                                (unlabeled)\n",
      "-------------------------------------------------------------------------------\n",
      "\n",
      "                  Type: String (str35)\n",
      "\n",
      "         Unique values: 6                         Missing \"\": 0/15,560\n",
      "\n",
      "            Tabulation: Freq.  Value\n",
      "                        1,990  \"Mexican American\"\n",
      "                        1,638  \"Non-Hispanic Asian\"\n",
      "                        4,098  \"Non-Hispanic Black\"\n",
      "                        5,271  \"Non-Hispanic White\"\n",
      "                        1,544  \"Other Hispanic\"\n",
      "                        1,019  \"Other Race - Including Multi-Racial\"\n",
      "\n",
      "               Warning: Variable has embedded blanks.\n"
     ]
    }
   ],
   "source": [
    "codebook race"
   ]
  },
  {
   "cell_type": "code",
   "execution_count": 9,
   "metadata": {
    "tags": []
   },
   "outputs": [
    {
     "name": "stdout",
     "output_type": "stream",
     "text": [
      "file p_demo.xpt saved as .dta format\n"
     ]
    }
   ],
   "source": [
    "save p_demo.xpt, replace"
   ]
  },
  {
   "cell_type": "code",
   "execution_count": 10,
   "metadata": {
    "tags": []
   },
   "outputs": [],
   "source": [
    "//loading the data from the hospitalization and access to healthcare questionnaire: \n",
    "//CODEBOOK: https://wwwn.cdc.gov/Nchs/Nhanes/2017-2018/P_HUQ.htm\n",
    "//The Hospital Utilization and Access to Care questionnaire (variable name prefix HUQ) provides ///\n",
    "//respondent-level interview data on self-reported health status and access to health care topics.\n",
    "fdause P_HUQ, clear"
   ]
  },
  {
   "cell_type": "code",
   "execution_count": 11,
   "metadata": {
    "tags": []
   },
   "outputs": [
    {
     "name": "stdout",
     "output_type": "stream",
     "text": [
      "\n",
      "Contains data\n",
      " Observations:        15,560                  \n",
      "    Variables:             7                  \n",
      "-------------------------------------------------------------------------------\n",
      "Variable      Storage   Display    Value\n",
      "    name         type    format    label      Variable label\n",
      "-------------------------------------------------------------------------------\n",
      "seqn            double  %10.0g                Respondent sequence number\n",
      "huq010          double  %10.0g                General health condition\n",
      "huq030          double  %10.0g                Routine place to go for\n",
      "                                                healthcare\n",
      "huq051          double  %10.0g                #times receive healthcare over\n",
      "                                                past year\n",
      "hud062          double  %10.0g                How long since last healthcare\n",
      "                                                visit\n",
      "huq071          double  %10.0g                Overnight hospital patient in\n",
      "                                                last year\n",
      "huq090          double  %10.0g                Seen mental health\n",
      "                                                professional/past yr\n",
      "-------------------------------------------------------------------------------\n",
      "Sorted by: \n",
      "     Note: Dataset has changed since last saved.\n"
     ]
    }
   ],
   "source": [
    "describe"
   ]
  },
  {
   "cell_type": "code",
   "execution_count": 12,
   "metadata": {
    "tags": []
   },
   "outputs": [],
   "source": [
    "//mergin' the data"
   ]
  },
  {
   "cell_type": "code",
   "execution_count": 13,
   "metadata": {
    "tags": []
   },
   "outputs": [
    {
     "name": "stdout",
     "output_type": "stream",
     "text": [
      "\n",
      "    Result                      Number of obs\n",
      "    -----------------------------------------\n",
      "    Not matched                             0\n",
      "    Matched                            15,560  \n",
      "    -----------------------------------------\n"
     ]
    }
   ],
   "source": [
    "merge 1:1 seqn using p_demo, nogen"
   ]
  },
  {
   "cell_type": "code",
   "execution_count": 14,
   "metadata": {
    "tags": []
   },
   "outputs": [
    {
     "name": "stdout",
     "output_type": "stream",
     "text": [
      "\n",
      "Contains data\n",
      " Observations:        15,560                  \n",
      "    Variables:            35                  \n",
      "-------------------------------------------------------------------------------\n",
      "Variable      Storage   Display    Value\n",
      "    name         type    format    label      Variable label\n",
      "-------------------------------------------------------------------------------\n",
      "seqn            double  %10.0g                Respondent sequence number\n",
      "huq010          double  %10.0g                General health condition\n",
      "huq030          double  %10.0g                Routine place to go for\n",
      "                                                healthcare\n",
      "huq051          double  %10.0g                #times receive healthcare over\n",
      "                                                past year\n",
      "hud062          double  %10.0g                How long since last healthcare\n",
      "                                                visit\n",
      "huq071          double  %10.0g                Overnight hospital patient in\n",
      "                                                last year\n",
      "huq090          double  %10.0g                Seen mental health\n",
      "                                                professional/past yr\n",
      "sddsrvyr        double  %10.0g                Data release cycle\n",
      "ridstatr        double  %10.0g                Interview/Examination status\n",
      "riagendr        double  %10.0g                Gender\n",
      "ridageyr        double  %10.0g                Age in years at screening\n",
      "ridagemn        double  %10.0g                Age in months at screening - 0 to\n",
      "                                                24 mos\n",
      "ridreth1        double  %10.0g                Race/Hispanic origin\n",
      "ridreth3        double  %10.0g                Race/Hispanic origin w/ NH Asian\n",
      "ridexmon        double  %10.0g                Six month time period\n",
      "dmdborn4        double  %10.0g                Country of birth\n",
      "dmdyrusz        double  %10.0g                Length of time in US\n",
      "dmdeduc2        double  %10.0g                Education level - Adults 20+\n",
      "dmdmartz        double  %10.0g                Marital status\n",
      "ridexprg        double  %10.0g                Pregnancy status at exam\n",
      "sialang         double  %10.0g                Language of SP Interview\n",
      "siaproxy        double  %10.0g                Proxy used in SP Interview?\n",
      "siaintrp        double  %10.0g                Interpreter used in SP Interview?\n",
      "fialang         double  %10.0g                Language of Family Interview\n",
      "fiaproxy        double  %10.0g                Proxy used in Family Interview?\n",
      "fiaintrp        double  %10.0g                Interpreter used in Family\n",
      "                                                Interview?\n",
      "mialang         double  %10.0g                Language of MEC Interview\n",
      "miaproxy        double  %10.0g                Proxy used in MEC Interview?\n",
      "miaintrp        double  %10.0g                Interpreter used in MEC\n",
      "                                                Interview?\n",
      "aialanga        double  %10.0g                Language of ACASI Interview\n",
      "wtintprp        double  %10.0g                Full sample interview weight\n",
      "wtmecprp        double  %10.0g                Full sample MEC exam weight\n",
      "sdmvpsu         double  %10.0g                Masked variance pseudo-PSU\n",
      "sdmvstra        double  %10.0g                Masked variance pseudo-stratum\n",
      "indfmpir        double  %10.0g                Ratio of family income to poverty\n",
      "-------------------------------------------------------------------------------\n",
      "Sorted by: seqn\n",
      "     Note: Dataset has changed since last saved.\n"
     ]
    }
   ],
   "source": [
    "describe"
   ]
  },
  {
   "cell_type": "code",
   "execution_count": 15,
   "metadata": {
    "tags": []
   },
   "outputs": [
    {
     "name": "stdout",
     "output_type": "stream",
     "text": [
      "ridreth3  dmdeduc2  huq010    hud062    huq090\n",
      "riagendr  indfmpir  huq051    huq071\n",
      "(6,328 missing values generated)\n",
      "(2,201 missing values generated)\n",
      "(13,540 missing values generated)\n",
      "(1,724 missing values generated)\n"
     ]
    }
   ],
   "source": [
    "ds ridreth3 riagendr dmdeduc2 indfmpir huq010 huq051 hud062 huq071 huq090 \n",
    "//recoding the variables of interest\n",
    "gen race=ridreth3\n",
    "gen gender=riagendr\n",
    "gen educ=dmdeduc2\n",
    "gen familyincome=indfmpir\n",
    "gen hlthstatus=huq010\n",
    "gen hlthcarefreq=huq051\n",
    "gen hspitalvisit=hud062\n",
    "gen hspitalovrnight=huq071\n",
    "gen mental_health=huq090"
   ]
  },
  {
   "cell_type": "code",
   "execution_count": 16,
   "metadata": {
    "jupyter": {
     "source_hidden": true
    },
    "tags": []
   },
   "outputs": [
    {
     "name": "stdout",
     "output_type": "stream",
     "text": [
      "\n",
      "-------------------------------------------------------------------------------\n",
      "hspitalvisit                                                        (unlabeled)\n",
      "-------------------------------------------------------------------------------\n",
      "\n",
      "                  Type: Numeric (float)\n",
      "\n",
      "                 Range: [0,99]                        Units: 1\n",
      "         Unique values: 6                         Missing .: 13,540/15,560\n",
      "\n",
      "            Tabulation: Freq.  Value\n",
      "                           69  0\n",
      "                          379  1\n",
      "                          749  2\n",
      "                          559  3\n",
      "                          251  4\n",
      "                           13  99\n",
      "                       13,540  .\n",
      "\n",
      "-------------------------------------------------------------------------------\n",
      "hlthcarefreq                                                        (unlabeled)\n",
      "-------------------------------------------------------------------------------\n",
      "\n",
      "                  Type: Numeric (float)\n",
      "\n",
      "                 Range: [0,99]                        Units: 1\n",
      "         Unique values: 10                        Missing .: 0/15,560\n",
      "\n",
      "                  Mean: 2.55129\n",
      "             Std. dev.: 5.22839\n",
      "\n",
      "           Percentiles:     10%       25%       50%       75%       90%\n",
      "                              0         1         2         3         5\n",
      "\n",
      "-------------------------------------------------------------------------------\n",
      "hspitalvisit                                                        (unlabeled)\n",
      "-------------------------------------------------------------------------------\n",
      "\n",
      "                  Type: Numeric (float)\n",
      "\n",
      "                 Range: [0,99]                        Units: 1\n",
      "         Unique values: 6                         Missing .: 13,540/15,560\n",
      "\n",
      "            Tabulation: Freq.  Value\n",
      "                           69  0\n",
      "                          379  1\n",
      "                          749  2\n",
      "                          559  3\n",
      "                          251  4\n",
      "                           13  99\n",
      "                       13,540  .\n",
      "\n",
      "-------------------------------------------------------------------------------\n",
      "hspitalovrnight                                                     (unlabeled)\n",
      "-------------------------------------------------------------------------------\n",
      "\n",
      "                  Type: Numeric (float)\n",
      "\n",
      "                 Range: [1,9]                         Units: 1\n",
      "         Unique values: 3                         Missing .: 0/15,560\n",
      "\n",
      "            Tabulation: Freq.  Value\n",
      "                        1,415  1\n",
      "                       14,141  2\n",
      "                            4  9\n",
      "\n",
      "-------------------------------------------------------------------------------\n",
      "mental_health                                                       (unlabeled)\n",
      "-------------------------------------------------------------------------------\n",
      "\n",
      "                  Type: Numeric (float)\n",
      "\n",
      "                 Range: [1,9]                         Units: 1\n",
      "         Unique values: 4                         Missing .: 1,724/15,560\n",
      "\n",
      "            Tabulation: Freq.  Value\n",
      "                        1,451  1\n",
      "                       12,379  2\n",
      "                            2  7\n",
      "                            4  9\n",
      "                        1,724  .\n"
     ]
    }
   ],
   "source": [
    "codebook hspitalvisit hlthcarefreq hspitalvisit hspitalovrnight mental_health"
   ]
  },
  {
   "cell_type": "code",
   "execution_count": 17,
   "metadata": {
    "jupyter": {
     "source_hidden": true
    },
    "tags": []
   },
   "outputs": [
    {
     "name": "stdout",
     "output_type": "stream",
     "text": [
      "race          educ          hlthstatus    hspitalvisit  mental_hea~h\n",
      "gender        familyincome  hlthcarefreq  hspitalovr~t  ridageyr\n"
     ]
    }
   ],
   "source": [
    "ds race gender educ familyincome hlthstatus hlthcarefreq hspitalvisit hspitalovrnight mental_health ridageyr"
   ]
  },
  {
   "cell_type": "code",
   "execution_count": 18,
   "metadata": {
    "tags": []
   },
   "outputs": [
    {
     "name": "stdout",
     "output_type": "stream",
     "text": [
      "\n",
      "hlthcarefre |\n",
      "          q |      Freq.     Percent        Cum.\n",
      "------------+-----------------------------------\n",
      "          0 |      2,020       12.98       12.98\n",
      "          1 |      3,345       21.50       34.48\n",
      "          2 |      5,009       32.19       66.67\n",
      "          3 |      2,389       15.35       82.02\n",
      "          4 |      1,006        6.47       88.49\n",
      "          5 |        421        2.71       91.20\n",
      "          6 |        677        4.35       95.55\n",
      "          7 |        207        1.33       96.88\n",
      "          8 |        446        2.87       99.74\n",
      "         99 |         40        0.26      100.00\n",
      "------------+-----------------------------------\n",
      "      Total |     15,560      100.00\n"
     ]
    }
   ],
   "source": [
    "tab hlthcarefreq"
   ]
  },
  {
   "cell_type": "code",
   "execution_count": 19,
   "metadata": {
    "tags": []
   },
   "outputs": [
    {
     "name": "stdout",
     "output_type": "stream",
     "text": [
      "(40 real changes made, 40 to missing)\n"
     ]
    }
   ],
   "source": [
    "//cleaning missing values\n",
    "replace hlthcarefreq=. if huq051==99"
   ]
  },
  {
   "cell_type": "code",
   "execution_count": 20,
   "metadata": {
    "tags": []
   },
   "outputs": [],
   "source": [
    "label define hlthcarefreq 0 \"0\" 1 \"1\" 2 \"2-3\" 3 \"4-5\" 4 \"6-7\" 5 \"8-9\" 6 \"10-12\" 7 \"13-15\" 8 \"16+\""
   ]
  },
  {
   "cell_type": "code",
   "execution_count": 21,
   "metadata": {
    "tags": []
   },
   "outputs": [],
   "source": [
    "label variable hlthcarefreq \"# of times received health care in the past year\" "
   ]
  },
  {
   "cell_type": "code",
   "execution_count": 22,
   "metadata": {
    "tags": []
   },
   "outputs": [],
   "source": [
    "label values hlthcarefreq hlthcarefreq"
   ]
  },
  {
   "cell_type": "code",
   "execution_count": 23,
   "metadata": {
    "tags": []
   },
   "outputs": [
    {
     "name": "stdout",
     "output_type": "stream",
     "text": [
      "\n",
      "-------------------------------------------------------------------------------\n",
      "hlthcarefreq                   # of times received health care in the past year\n",
      "-------------------------------------------------------------------------------\n",
      "\n",
      "                  Type: Numeric (float)\n",
      "                 Label: hlthcarefreq, but 2 nonmissing values are not labeled\n",
      "\n",
      "                 Range: [0,8]                         Units: 1\n",
      "         Unique values: 9                         Missing .: 40/15,560\n",
      "\n",
      "            Tabulation: Freq.   Numeric  Label\n",
      "                        2,020         0  \n",
      "                        3,345         1  \n",
      "                        5,009         2  2-3\n",
      "                        2,389         3  4-5\n",
      "                        1,006         4  6-7\n",
      "                          421         5  8-9\n",
      "                          677         6  10-12\n",
      "                          207         7  13-15\n",
      "                          446         8  16+\n",
      "                           40         .  \n"
     ]
    }
   ],
   "source": [
    "codebook hlthcarefreq"
   ]
  },
  {
   "cell_type": "code",
   "execution_count": 24,
   "metadata": {
    "tags": []
   },
   "outputs": [
    {
     "name": "stdout",
     "output_type": "stream",
     "text": [
      "\u001b[31mnot possible with numeric variable\n",
      "r(107);\u001b[0m\n"
     ]
    }
   ],
   "source": [
    "encode hlthcarefreq"
   ]
  },
  {
   "cell_type": "code",
   "execution_count": null,
   "metadata": {
    "tags": []
   },
   "outputs": [],
   "source": [
    "tab gender"
   ]
  },
  {
   "cell_type": "code",
   "execution_count": 26,
   "metadata": {
    "tags": []
   },
   "outputs": [],
   "source": [
    "label define gender 1 \"male\" 2 \"female\""
   ]
  },
  {
   "cell_type": "code",
   "execution_count": 27,
   "metadata": {
    "tags": []
   },
   "outputs": [],
   "source": [
    "label values gender gender"
   ]
  },
  {
   "cell_type": "code",
   "execution_count": 28,
   "metadata": {
    "tags": []
   },
   "outputs": [],
   "source": [
    "label define race 1 \"Mexican American\" 2 \"Other Hispanic\" 3 \"Non-Hispanic White\" 4 \"Non-Hispanic Black\" ///\n",
    "6 \"Non-Hispanic Asian\" 7 \"Other Race\" "
   ]
  },
  {
   "cell_type": "code",
   "execution_count": 29,
   "metadata": {
    "tags": []
   },
   "outputs": [],
   "source": [
    "label values race race"
   ]
  },
  {
   "cell_type": "code",
   "execution_count": null,
   "metadata": {
    "tags": []
   },
   "outputs": [],
   "source": [
    "codebook race"
   ]
  },
  {
   "cell_type": "code",
   "execution_count": null,
   "metadata": {
    "tags": []
   },
   "outputs": [],
   "source": [
    "codebook gender"
   ]
  },
  {
   "cell_type": "markdown",
   "metadata": {},
   "source": [
    "## 1. Develop hypotheses about interactions between your independent variables [1 pt]\n",
    "\n",
    "You can use the GSS data, Student aid data, or your own data"
   ]
  },
  {
   "cell_type": "markdown",
   "metadata": {},
   "source": [
    "*all the examples we had today, the dependent var was I-R, but they can be nominal\n",
    "\n",
    "A. Write at least one hypothesis involving one of the two following types of interactions\n",
    "        1) nominal * nominal: raceXsex\n",
    "        2) nominal * interval-ratio\n",
    "    Dependent: Healthcare access (varies)\n",
    "        - hlthcarefreq (ordinal)\n",
    "        - hspitalovrnight (nominal- dummy)\n",
    "        - hspitalvisit (ordinal)\n",
    "        - mental_health (nominal- dummy)\n",
    "    Independent: \n",
    "    Health Status (ordinal), Race (nominal), Gender (nominal), Class \n",
    "    (nominal), Age (IR)\n",
    "        \n",
    "        H1: The level of access to healthcare measured by hlthcarefreq (the amount of times someone \n",
    "            accessed healthcare in the last year) will be associated with a positive correlation with             subjective health status, all things held constant \n",
    "        H1a: The level of access to healthcare will have a stronger positive correlation \n",
    "             with subjective health status for Black, lower SES women than white higher SES men.\n",
    "    \n",
    "        \n",
    "    B. State the predicted direction of association between your dependent variable and:\n",
    "        1) each of the 2 independent variables by themselves\n",
    "        \n",
    "      - race\n",
    "      - sex\n",
    "      \n",
    "        2) the interaction of the 2 indendent variables\n",
    "        \n",
    "          I predict that access to health care and mental health care will have positive associations \n",
    "          with subjective health status, but will have a greater association when accounting for  \n",
    "          race, class and gender and the intersections between them.\n",
    "          \n",
    "        \n",
    "    C. Write a couple sentences about the theoretical reasons (prior knowledge / research) for each \n",
    "    of your predictions\n",
    "    \n",
    "    According to the literature, access (or inadequate access) to health care significantly impedes \n",
    "    recovery post-disaster and exacerbates existing inequalities. Indicators of healthcare \n",
    "    access can be predicted by subjective health status and disaster-related injuries (Han and Suh, \n",
    "    2023). Thus, I think the better the subjective health status the more hosptial visits the \n",
    "    individual has obtained in the last year. However, race, class and gender are important  \n",
    "    predictive factors of health disparities experienced post-disaster, and likely have an affect \n",
    "    on individual health care access. Therefore, intersectional approaches towards understanding \n",
    "    disaster recovery are important for encompassing differential health outcomes (Reid, 2013). To \n",
    "    understand the differential experiences in disasters, I will test the interactive \n",
    "    relationship between one's intersectional location (accounting for race and gender) on reported \n",
    "    subjective health in hopes to better predict its correlation to health access."
   ]
  },
  {
   "cell_type": "code",
   "execution_count": 30,
   "metadata": {
    "tags": []
   },
   "outputs": [
    {
     "data": {
      "image/png": "[encoded data removed]",
      "text/plain": [
       "<IPython.core.display.Image object>"
      ]
     },
     "metadata": {},
     "output_type": "display_data"
    }
   ],
   "source": [
    "graph bar hlthcarefreq, over(race) over(gender) asyvars ytitle (Amount of times health care was received over the past year) ///\n",
    "  blabel(bar, format(%7.0fc)) legend(rows(1) position(1) ring(0)) scheme(538w)"
   ]
  },
  {
   "cell_type": "markdown",
   "metadata": {},
   "source": [
    "## 2. Test your hypotheses [3 pts]\n",
    "\n",
    "    A. For each hypothesized interactive relationship: use regression with the appropriate interaction syntax to estimate 1 model with uninteracted variables and 1 model with interacted variables. Use --esttab-- to output a model with the 2 tables\n",
    "    \n",
    "    B. Use margins and marginsplot with the appropriate syntax to visually represent your regression adjusted estimates for given nominal categories or at given interval-ratio values"
   ]
  },
  {
   "cell_type": "markdown",
   "metadata": {},
   "source": [
    "H1: hlthcarefreq hlthstatus\n",
    "H1a: hlthcare freq hlthstatus ib3.race ib1.sex ib4.race ib2.sex"
   ]
  },
  {
   "cell_type": "code",
   "execution_count": 31,
   "metadata": {
    "tags": []
   },
   "outputs": [],
   "source": [
    "//H1\n",
    "quietly eststo: reg hlthcarefreq hlthstatus"
   ]
  },
  {
   "cell_type": "code",
   "execution_count": null,
   "metadata": {},
   "outputs": [],
   "source": [
    "//H2"
   ]
  },
  {
   "cell_type": "code",
   "execution_count": 32,
   "metadata": {
    "tags": []
   },
   "outputs": [],
   "source": [
    "//creating interaction estimates for white men and Black women\n",
    "quietly {\n",
    "set line 140\n",
    "gen white= race==3\n",
    "gen black= race==4\n",
    "gen female= gender==2\n",
    "gen male= gender==1\n",
    "gen whitexfemale = white * female\n",
    "gen blackxfemale = black * female\n",
    "gen whitexmale = white * male\n",
    "}"
   ]
  },
  {
   "cell_type": "code",
   "execution_count": 52,
   "metadata": {
    "tags": []
   },
   "outputs": [
    {
     "name": "stdout",
     "output_type": "stream",
     "text": [
      "(12,913 missing values generated)\n",
      "variable raceXsex was str10 now str12\n",
      "(2,624 real changes made)\n",
      "(2,024 real changes made)\n",
      "(2,074 real changes made)\n"
     ]
    }
   ],
   "source": [
    "gen raceXsex=\"white male\" if race==3 & gender==1\n",
    "replace raceXsex=\"white female\" if race==3 & gender==2\n",
    "replace raceXsex=\"Black male\" if race==4 & gender==1\n",
    "replace raceXsex=\"Black female\" if race==4 & gender==2"
   ]
  },
  {
   "cell_type": "code",
   "execution_count": 53,
   "metadata": {
    "tags": []
   },
   "outputs": [],
   "source": [
    "encode raceXsex, gen(raceBYsex)"
   ]
  },
  {
   "cell_type": "code",
   "execution_count": 63,
   "metadata": {
    "tags": []
   },
   "outputs": [],
   "source": [
    "//when ur running the regression, treat these categorical variables as categorical. ib2.sex would be female, ///\n",
    "// if you wanted to show the coefficient for female, then you would want to omit ib1.sex (male)\n",
    "est clear\n",
    "quietly eststo: reg hlthcarefreq hlthstatus i.race i.gender\n",
    "quietly eststo: reg hlthcarefreq hlthstatus ib3.raceBYsex"
   ]
  },
  {
   "cell_type": "code",
   "execution_count": 64,
   "metadata": {
    "tags": []
   },
   "outputs": [
    {
     "name": "stdout",
     "output_type": "stream",
     "text": [
      "\n",
      "--------------------------------------------\n",
      "                      (1)             (2)   \n",
      "             hlthcarefreq    hlthcarefreq   \n",
      "--------------------------------------------\n",
      "hlthstatus          0.385***        0.432***\n",
      "                  (29.87)         (25.39)   \n",
      "\n",
      "1.race                  0                   \n",
      "                      (.)                   \n",
      "\n",
      "2.race              0.416***                \n",
      "                   (6.96)                   \n",
      "\n",
      "3.race              0.888***                \n",
      "                  (19.07)                   \n",
      "\n",
      "4.race              0.462***                \n",
      "                   (9.59)                   \n",
      "\n",
      "6.race              0.154**                 \n",
      "                   (2.62)                   \n",
      "\n",
      "7.race              0.628***                \n",
      "                   (9.23)                   \n",
      "\n",
      "1.gender                0                   \n",
      "                      (.)                   \n",
      "\n",
      "2.gender            0.278***                \n",
      "                   (9.83)                   \n",
      "\n",
      "1.raceBYsex                        -0.371***\n",
      "                                  (-7.00)   \n",
      "\n",
      "2.raceBYsex                        -0.703***\n",
      "                                 (-13.22)   \n",
      "\n",
      "3.raceBYsex                             0   \n",
      "                                      (.)   \n",
      "\n",
      "4.raceBYsex                        -0.208***\n",
      "                                  (-4.20)   \n",
      "\n",
      "_cons               0.717***        1.738***\n",
      "                  (13.29)         (33.21)   \n",
      "--------------------------------------------\n",
      "N                   15520            9348   \n",
      "--------------------------------------------\n",
      "t statistics in parentheses\n",
      "* p<0.05, ** p<0.01, *** p<0.001\n"
     ]
    }
   ],
   "source": [
    "esttab"
   ]
  },
  {
   "cell_type": "code",
   "execution_count": 39,
   "metadata": {
    "tags": []
   },
   "outputs": [
    {
     "name": "stdout",
     "output_type": "stream",
     "text": [
      "\u001b[31mtype mismatch\n",
      "r(109);\u001b[0m\n"
     ]
    }
   ],
   "source": [
    "/*esttab stats(r2 N, labels(\"R2\" \"N\") fmt(%10.2fc %10.0fc)) cells(b(star fmt(%10.0fc)) se(fmt(%6.0fc) par) N (fmt(%10.0fc)) r2 (fmt(%10.2f))) ///\n",
    "  nobase noconstant starlevels(* .1 ** .05 *** .01) mlabels(\"Race, Gender\" \"H1a.: RaceXGender\") ///\n",
    "  coeflabels (4.race \"Black\" 1.race \"Mexican American\" 2.race \"Other Hispanic\" 3.race \"Non-Hispanic White\" ///\n",
    "  6.race \"Non-Hispanic Asian\" 1.gender \"Male\" 2.gender \"Female\" blackxfemale \"Black female\" /// \n",
    "  whitexmale \"white Male\")*/"
   ]
  },
  {
   "cell_type": "code",
   "execution_count": 44,
   "metadata": {
    "tags": []
   },
   "outputs": [
    {
     "name": "stdout",
     "output_type": "stream",
     "text": [
      "\n",
      "Variables that uniquely identify margins: race gender\n"
     ]
    },
    {
     "data": {
      "image/png": "[encoded data removed]",
      "text/plain": [
       "<IPython.core.display.Image object>"
      ]
     },
     "metadata": {},
     "output_type": "display_data"
    }
   ],
   "source": [
    "quietly reg hlthcarefreq i.race i.gender hlthstatus \n",
    "quietly margins i.race, over(gender) atmeans\n",
    "marginsplot, recast(scatter) scheme(538w)"
   ]
  },
  {
   "cell_type": "code",
   "execution_count": 67,
   "metadata": {
    "tags": []
   },
   "outputs": [
    {
     "name": "stdout",
     "output_type": "stream",
     "text": [
      "\n",
      "Variables that uniquely identify margins: raceBYsex gender\n"
     ]
    },
    {
     "data": {
      "image/png": "[encoded data removed]",
      "text/plain": [
       "<IPython.core.display.Image object>"
      ]
     },
     "metadata": {},
     "output_type": "display_data"
    }
   ],
   "source": [
    "quietly margins i.raceBYsex, over(gender) atmeans\n",
    "marginsplot, recast(scatter) scheme(538w)"
   ]
  },
  {
   "cell_type": "markdown",
   "metadata": {},
   "source": [
    "## 3. Interpret your results [1 pt]\n",
    "\n",
    "Write a couple sentences answering each of the following questions:"
   ]
  },
  {
   "cell_type": "markdown",
   "metadata": {},
   "source": [
    "    A. Do the results support or contradict each of your hypotheses?\n",
    "    \n",
    "    I don't think the results contradict both of my hypotheses.\n",
    "    \n",
    "    B. Why do the regression coefficients support or contradict your hypotheses?\n",
    "    \n",
    "    These regression coefficients contradict my hypothesis and I think there's a mixture of factors at \n",
    "    hand. I'm learning, and probably made lots and lots of mistakes. I think the data could be not the \n",
    "    best selection for capturing access to healthcare (this was selected sort of at random to try out \n",
    "    merging datasets), and so hospital visits may not be the best measure of that. \n",
    "        Theoretically, if I did run all my models correctly and the data was perfect, and I still \n",
    "        got these results, it would sort of make sense to me. In my first modeled regression, it \n",
    "        appears that the most marginalized are Mexican American men. Again, applying an intersectional \n",
    "        lens, Mexican Americans in the U.S. could likely be facing the most barriers to accessing \n",
    "        healthcare based on uncertain citizenship statuses and learned machismo gender roles. Noting \n",
    "        as well that their female counterpart's CI is higher.\n",
    "    \n",
    "    C. Why do your regression adjusted estimates from margins for nominal categories or given \n",
    "    interval-ratio values support or contradict your hypotheses?\n",
    "    Again, they contradict my hypothesis but theoretically, if I did run all my models correctly and \n",
    "        the data was perfect, and I still got these results, it would sort of make sense to me. Black \n",
    "        women are not the most marginalized group here, and in fact are sort of close to white men's \n",
    "        access to care. It's Black men who only access healthcare 1 to 2 times a year. However, this \n",
    "        makes sense by applying intersectional frameworks to understand differential impacts of gender         roles (men receiving the lower confidence intervals to their intraracial counterpart) and how \n",
    "        Black men often are told to toughen up, or maybe also not to trust medical professionals. I \n",
    "        think if I  had controlled for education, that may be a good factor to add to my model as \n",
    "        well. "
   ]
  }
 ],
 "metadata": {
  "kernelspec": {
   "display_name": "Stata (nbstata)",
   "language": "stata",
   "name": "nbstata"
  },
  "language_info": {
   "file_extension": ".do",
   "mimetype": "text/x-stata",
   "name": "stata",
   "version": "17"
  }
 },
 "nbformat": 4,
 "nbformat_minor": 4
}
