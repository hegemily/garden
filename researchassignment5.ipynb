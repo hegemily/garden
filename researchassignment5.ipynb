{
 "cells": [
  {
   "cell_type": "markdown",
   "metadata": {},
   "source": [
    "# Research Assignment 5 \n",
    "\n",
    "\n",
    "Emily Ernst\n",
    "\n",
    "\n",
    "\n",
    "[date]"
   ]
  },
  {
   "cell_type": "code",
   "execution_count": 1,
   "metadata": {
    "tags": []
   },
   "outputs": [
    {
     "data": {
      "text/html": [
       "<style>div.jp-Notebook .datagrid-container {min-height: 448px; }</style>"
      ],
      "text/plain": [
       "<IPython.core.display.HTML object>"
      ]
     },
     "metadata": {},
     "output_type": "display_data"
    }
   ],
   "source": [
    "set more off \n",
    "use \"/Users/emilyernst/Desktop/garden/soc_211_assignments/potentialdata/GSS2022.dta\" , clear"
   ]
  },
  {
   "cell_type": "code",
   "execution_count": 2,
   "metadata": {
    "tags": []
   },
   "outputs": [],
   "source": [
    "keep physhlth realinc hrs1"
   ]
  },
  {
   "cell_type": "code",
   "execution_count": 3,
   "metadata": {
    "tags": []
   },
   "outputs": [
    {
     "name": "stdout",
     "output_type": "stream",
     "text": [
      "hrs1      physhlth  realinc\n"
     ]
    }
   ],
   "source": [
    "ds"
   ]
  },
  {
   "cell_type": "code",
   "execution_count": 4,
   "metadata": {
    "tags": []
   },
   "outputs": [
    {
     "name": "stdout",
     "output_type": "stream",
     "text": [
      "\n",
      "    days of |\n",
      "       poor |\n",
      "   physical |\n",
      "health past |\n",
      "    30 days |      Freq.     Percent        Cum.\n",
      "------------+-----------------------------------\n",
      "          0 |      1,212       34.20       34.20\n",
      "          1 |         94        2.65       36.85\n",
      "          2 |        144        4.06       40.91\n",
      "          3 |         94        2.65       43.57\n",
      "          4 |         43        1.21       44.78\n",
      "          5 |         87        2.45       47.23\n",
      "          6 |         13        0.37       47.60\n",
      "          7 |         40        1.13       48.73\n",
      "          8 |          9        0.25       48.98\n",
      "          9 |          1        0.03       49.01\n",
      "         10 |         51        1.44       50.45\n",
      "         12 |          2        0.06       50.51\n",
      "         13 |          1        0.03       50.54\n",
      "         14 |         16        0.45       50.99\n",
      "         15 |         24        0.68       51.66\n",
      "         16 |          3        0.08       51.75\n",
      "         17 |          1        0.03       51.78\n",
      "         20 |         19        0.54       52.31\n",
      "         21 |          1        0.03       52.34\n",
      "         25 |          8        0.23       52.57\n",
      "         27 |          1        0.03       52.60\n",
      "         28 |          2        0.06       52.65\n",
      "         29 |          1        0.03       52.68\n",
      "         30 |         55        1.55       54.23\n",
      "         .d |         15        0.42       54.66\n",
      "         .i |      1,557       43.93       98.59\n",
      "         .n |         19        0.54       99.13\n",
      "         .s |         31        0.87      100.00\n",
      "------------+-----------------------------------\n",
      "      Total |      3,544      100.00\n"
     ]
    }
   ],
   "source": [
    "// Turning dependent variable into dummy/dichotomous variable\n",
    "\n",
    "tab physhlth, missing nol"
   ]
  },
  {
   "cell_type": "code",
   "execution_count": 5,
   "metadata": {
    "tags": []
   },
   "outputs": [
    {
     "name": "stdout",
     "output_type": "stream",
     "text": [
      "(1,622 observations deleted)\n"
     ]
    }
   ],
   "source": [
    "drop if physhlth==.d | physhlth==.i | physhlth==.n | physhlth==.s"
   ]
  },
  {
   "cell_type": "code",
   "execution_count": 6,
   "metadata": {
    "tags": []
   },
   "outputs": [],
   "source": [
    "gen poor_health=physhlth"
   ]
  },
  {
   "cell_type": "code",
   "execution_count": 7,
   "metadata": {
    "tags": []
   },
   "outputs": [
    {
     "name": "stdout",
     "output_type": "stream",
     "text": [
      "(115 real changes made)\n",
      "(595 real changes made)\n"
     ]
    }
   ],
   "source": [
    "replace poor_health=1 if physhlth>=15\n",
    "replace poor_health=0 if physhlth<15"
   ]
  },
  {
   "cell_type": "code",
   "execution_count": 10,
   "metadata": {
    "tags": []
   },
   "outputs": [
    {
     "name": "stdout",
     "output_type": "stream",
     "text": [
      "\n",
      "days of poor physical |      poor_health\n",
      "  health past 30 days |         0          1 |     Total\n",
      "----------------------+----------------------+----------\n",
      "                    0 |     1,212          0 |     1,212 \n",
      "                    1 |        94          0 |        94 \n",
      "                    2 |       144          0 |       144 \n",
      "                    3 |        94          0 |        94 \n",
      "                    4 |        43          0 |        43 \n",
      "                    5 |        87          0 |        87 \n",
      "                    6 |        13          0 |        13 \n",
      "                    7 |        40          0 |        40 \n",
      "                    8 |         9          0 |         9 \n",
      "                    9 |         1          0 |         1 \n",
      "                   10 |        51          0 |        51 \n",
      "                   12 |         2          0 |         2 \n",
      "                   13 |         1          0 |         1 \n",
      "                   14 |        16          0 |        16 \n",
      "                   15 |         0         24 |        24 \n",
      "                   16 |         0          3 |         3 \n",
      "                   17 |         0          1 |         1 \n",
      "                   20 |         0         19 |        19 \n",
      "                   21 |         0          1 |         1 \n",
      "                   25 |         0          8 |         8 \n",
      "                   27 |         0          1 |         1 \n",
      "                   28 |         0          2 |         2 \n",
      "                   29 |         0          1 |         1 \n",
      "                   30 |         0         55 |        55 \n",
      "----------------------+----------------------+----------\n",
      "                Total |     1,807        115 |     1,922 \n"
     ]
    }
   ],
   "source": [
    "tab physhlth poor_health, missing"
   ]
  },
  {
   "cell_type": "code",
   "execution_count": 13,
   "metadata": {
    "tags": []
   },
   "outputs": [],
   "source": [
    "label variable poor_health \"Experienced poor days of health for more than half the month\"\n",
    "label define poor_health 0 \"Less than half the month\" 1 \"More than half the month\""
   ]
  },
  {
   "cell_type": "code",
   "execution_count": 14,
   "metadata": {
    "tags": []
   },
   "outputs": [],
   "source": [
    "label values poor_health poor_health"
   ]
  },
  {
   "cell_type": "code",
   "execution_count": 15,
   "metadata": {
    "tags": []
   },
   "outputs": [
    {
     "name": "stdout",
     "output_type": "stream",
     "text": [
      "\n",
      "-------------------------------------------------------------------------------\n",
      "poor_health        Experienced poor days of health for more than half the month\n",
      "-------------------------------------------------------------------------------\n",
      "\n",
      "                  Type: Numeric (float)\n",
      "                 Label: poor_health\n",
      "\n",
      "                 Range: [0,1]                         Units: 1\n",
      "         Unique values: 2                         Missing .: 0/1,922\n",
      "\n",
      "            Tabulation: Freq.   Numeric  Label\n",
      "                        1,807         0  Less than half the month\n",
      "                          115         1  More than half the month\n"
     ]
    }
   ],
   "source": [
    "codebook poor_health"
   ]
  },
  {
   "cell_type": "code",
   "execution_count": 19,
   "metadata": {
    "tags": []
   },
   "outputs": [
    {
     "name": "stdout",
     "output_type": "stream",
     "text": [
      "\n",
      "Experienced poor days of |\n",
      "    health for more than |\n",
      "          half the month |      Freq.     Percent        Cum.\n",
      "-------------------------+-----------------------------------\n",
      "Less than half the month |      1,807       94.02       94.02\n",
      "More than half the month |        115        5.98      100.00\n",
      "-------------------------+-----------------------------------\n",
      "                   Total |      1,922      100.00\n",
      "\n",
      "  family income in constant $ |      Freq.     Percent        Cum.\n",
      "------------------------------+-----------------------------------\n",
      "                          218 |         10        0.57        0.57\n",
      "                          872 |         10        0.57        1.14\n",
      "                         1526 |          5        0.28        1.42\n",
      "                         1962 |          2        0.11        1.54\n",
      "                         2398 |          8        0.46        1.99\n",
      "                         2834 |          6        0.34        2.34\n",
      "                         3270 |          3        0.17        2.51\n",
      "                         3924 |         10        0.57        3.08\n",
      "                         4905 |         20        1.14        4.22\n",
      "                         5995 |         18        1.03        5.24\n",
      "                         7085 |         18        1.03        6.27\n",
      "                         8175 |         23        1.31        7.58\n",
      "                         9265 |         37        2.11        9.69\n",
      "                        10355 |         44        2.51       12.19\n",
      "                        11990 |         60        3.42       15.61\n",
      "                        14170 |         84        4.79       20.40\n",
      "                        16350 |         77        4.39       24.79\n",
      "                        19620 |        125        7.12       31.91\n",
      "                        23980 |        155        8.83       40.74\n",
      "                        29430 |        193       11.00       51.74\n",
      "                        35970 |        160        9.12       60.85\n",
      "                        43600 |        172        9.80       70.66\n",
      "                        52320 |        115        6.55       77.21\n",
      "                        61040 |        101        5.75       82.96\n",
      "                        69760 |         68        3.87       86.84\n",
      "                     144835.4 |        231       13.16      100.00\n",
      "------------------------------+-----------------------------------\n",
      "                        Total |      1,755      100.00\n",
      "\n",
      "  number of hours worked last |\n",
      "                         week |      Freq.     Percent        Cum.\n",
      "------------------------------+-----------------------------------\n",
      "                            0 |         19        1.04        1.04\n",
      "                            1 |          2        0.11        1.15\n",
      "                            2 |          1        0.05        1.20\n",
      "                            3 |          1        0.05        1.26\n",
      "                            4 |          6        0.33        1.59\n",
      "                            5 |          5        0.27        1.86\n",
      "                            6 |          5        0.27        2.13\n",
      "                            7 |          3        0.16        2.30\n",
      "                            8 |          6        0.33        2.63\n",
      "                            9 |          2        0.11        2.74\n",
      "                           10 |         20        1.09        3.83\n",
      "                           11 |          3        0.16        3.99\n",
      "                           12 |         13        0.71        4.70\n",
      "                           14 |          5        0.27        4.98\n",
      "                           15 |         22        1.20        6.18\n",
      "                           16 |         13        0.71        6.89\n",
      "                           17 |          2        0.11        7.00\n",
      "                           18 |         11        0.60        7.60\n",
      "                           20 |         68        3.72       11.32\n",
      "                           21 |          2        0.11       11.43\n",
      "                           22 |          4        0.22       11.65\n",
      "                           23 |          2        0.11       11.76\n",
      "                           24 |         18        0.98       12.75\n",
      "                           25 |         31        1.70       14.44\n",
      "                           26 |          5        0.27       14.72\n",
      "                           27 |          3        0.16       14.88\n",
      "                           28 |         11        0.60       15.48\n",
      "                           29 |          2        0.11       15.59\n",
      "                           30 |         59        3.23       18.82\n",
      "                           31 |          4        0.22       19.04\n",
      "                           32 |         30        1.64       20.68\n",
      "                           33 |          4        0.22       20.90\n",
      "                           34 |         10        0.55       21.44\n",
      "                           35 |         43        2.35       23.80\n",
      "                           36 |         23        1.26       25.05\n",
      "                           37 |         11        0.60       25.66\n",
      "                           38 |         22        1.20       26.86\n",
      "                           39 |          4        0.22       27.08\n",
      "                           40 |        730       39.93       67.01\n",
      "                           41 |          8        0.44       67.45\n",
      "                           42 |         21        1.15       68.60\n",
      "                           43 |          8        0.44       69.04\n",
      "                           44 |         15        0.82       69.86\n",
      "                           45 |        113        6.18       76.04\n",
      "                           46 |         12        0.66       76.70\n",
      "                           47 |          5        0.27       76.97\n",
      "                           48 |         27        1.48       78.45\n",
      "                           49 |          3        0.16       78.61\n",
      "                           50 |        140        7.66       86.27\n",
      "                           51 |          2        0.11       86.38\n",
      "                           52 |         12        0.66       87.04\n",
      "                           53 |          4        0.22       87.25\n",
      "                           54 |          9        0.49       87.75\n",
      "                           55 |         41        2.24       89.99\n",
      "                           56 |          8        0.44       90.43\n",
      "                           57 |          4        0.22       90.65\n",
      "                           58 |          7        0.38       91.03\n",
      "                           59 |          1        0.05       91.08\n",
      "                           60 |         75        4.10       95.19\n",
      "                           62 |          1        0.05       95.24\n",
      "                           64 |          2        0.11       95.35\n",
      "                           65 |         16        0.88       96.23\n",
      "                           68 |          1        0.05       96.28\n",
      "                           70 |         16        0.88       97.16\n",
      "                           72 |          4        0.22       97.37\n",
      "                           73 |          2        0.11       97.48\n",
      "                           74 |          1        0.05       97.54\n",
      "                           75 |          5        0.27       97.81\n",
      "                           78 |          2        0.11       97.92\n",
      "                           80 |         17        0.93       98.85\n",
      "                           81 |          1        0.05       98.91\n",
      "                           82 |          2        0.11       99.02\n",
      "                           84 |          3        0.16       99.18\n",
      "                           85 |          2        0.11       99.29\n",
      "                    89+ hours |         13        0.71      100.00\n",
      "------------------------------+-----------------------------------\n",
      "                        Total |      1,828      100.00\n"
     ]
    }
   ],
   "source": [
    "// Taking a quick look at my independent variables\n",
    "tab poor_health\n",
    "tab realinc\n",
    "tab hrs1"
   ]
  },
  {
   "cell_type": "code",
   "execution_count": 48,
   "metadata": {
    "tags": []
   },
   "outputs": [
    {
     "name": "stdout",
     "output_type": "stream",
     "text": [
      "\n",
      "  number of |\n",
      "      hours |\n",
      "worked last |\n",
      "       week |      Freq.     Percent        Cum.\n",
      "------------+-----------------------------------\n",
      "          0 |         19        0.99        0.99\n",
      "          1 |          2        0.10        1.09\n",
      "          2 |          1        0.05        1.14\n",
      "          3 |          1        0.05        1.20\n",
      "          4 |          6        0.31        1.51\n",
      "          5 |          5        0.26        1.77\n",
      "          6 |          5        0.26        2.03\n",
      "          7 |          3        0.16        2.19\n",
      "          8 |          6        0.31        2.50\n",
      "          9 |          2        0.10        2.60\n",
      "         10 |         20        1.04        3.64\n",
      "         11 |          3        0.16        3.80\n",
      "         12 |         13        0.68        4.47\n",
      "         14 |          5        0.26        4.73\n",
      "         15 |         22        1.14        5.88\n",
      "         16 |         13        0.68        6.56\n",
      "         17 |          2        0.10        6.66\n",
      "         18 |         11        0.57        7.23\n",
      "         20 |         68        3.54       10.77\n",
      "         21 |          2        0.10       10.87\n",
      "         22 |          4        0.21       11.08\n",
      "         23 |          2        0.10       11.19\n",
      "         24 |         18        0.94       12.12\n",
      "         25 |         31        1.61       13.74\n",
      "         26 |          5        0.26       14.00\n",
      "         27 |          3        0.16       14.15\n",
      "         28 |         11        0.57       14.72\n",
      "         29 |          2        0.10       14.83\n",
      "         30 |         59        3.07       17.90\n",
      "         31 |          4        0.21       18.11\n",
      "         32 |         30        1.56       19.67\n",
      "         33 |          4        0.21       19.88\n",
      "         34 |         10        0.52       20.40\n",
      "         35 |         43        2.24       22.63\n",
      "         36 |         23        1.20       23.83\n",
      "         37 |         11        0.57       24.40\n",
      "         38 |         22        1.14       25.55\n",
      "         39 |          4        0.21       25.75\n",
      "         40 |        730       37.98       63.74\n",
      "         41 |          8        0.42       64.15\n",
      "         42 |         21        1.09       65.24\n",
      "         43 |          8        0.42       65.66\n",
      "         44 |         15        0.78       66.44\n",
      "         45 |        113        5.88       72.32\n",
      "         46 |         12        0.62       72.94\n",
      "         47 |          5        0.26       73.20\n",
      "         48 |         27        1.40       74.61\n",
      "         49 |          3        0.16       74.77\n",
      "         50 |        140        7.28       82.05\n",
      "         51 |          2        0.10       82.15\n",
      "         52 |         12        0.62       82.78\n",
      "         53 |          4        0.21       82.99\n",
      "         54 |          9        0.47       83.45\n",
      "         55 |         41        2.13       85.59\n",
      "         56 |          8        0.42       86.00\n",
      "         57 |          4        0.21       86.21\n",
      "         58 |          7        0.36       86.58\n",
      "         59 |          1        0.05       86.63\n",
      "         60 |         75        3.90       90.53\n",
      "         62 |          1        0.05       90.58\n",
      "         64 |          2        0.10       90.69\n",
      "         65 |         16        0.83       91.52\n",
      "         68 |          1        0.05       91.57\n",
      "         70 |         16        0.83       92.40\n",
      "         72 |          4        0.21       92.61\n",
      "         73 |          2        0.10       92.72\n",
      "         74 |          1        0.05       92.77\n",
      "         75 |          5        0.26       93.03\n",
      "         78 |          2        0.10       93.13\n",
      "         80 |         17        0.88       94.02\n",
      "         81 |          1        0.05       94.07\n",
      "         82 |          2        0.10       94.17\n",
      "         84 |          3        0.16       94.33\n",
      "         85 |          2        0.10       94.43\n",
      "         89 |         13        0.68       95.11\n",
      "         .d |          3        0.16       95.27\n",
      "         .i |         88        4.58       99.84\n",
      "         .n |          1        0.05       99.90\n",
      "         .s |          2        0.10      100.00\n",
      "------------+-----------------------------------\n",
      "      Total |      1,922      100.00\n"
     ]
    }
   ],
   "source": [
    "tab hrs1, missing nol"
   ]
  },
  {
   "cell_type": "code",
   "execution_count": 53,
   "metadata": {
    "tags": []
   },
   "outputs": [
    {
     "name": "stdout",
     "output_type": "stream",
     "text": [
      "(94 missing values generated)\n",
      "(94 real changes made, 94 to missing)\n"
     ]
    }
   ],
   "source": [
    "//cleaning of missing values\n",
    "gen cleaned_hrs1=hrs1\n",
    "replace cleaned_hrs1=. if hrs1==.d | hrs1==.i | hrs1==.n | hrs1==.s"
   ]
  },
  {
   "cell_type": "code",
   "execution_count": 56,
   "metadata": {
    "tags": []
   },
   "outputs": [
    {
     "name": "stdout",
     "output_type": "stream",
     "text": [
      "(94 missing values generated)\n",
      "(19 real changes made)\n"
     ]
    }
   ],
   "source": [
    "/*cleaning the income variable to create ordinal measure:\n",
    "1: Not working\n",
    "2: Part-time\n",
    "3: Full-time\n",
    "4: Over-time/Second job*/\n",
    "\n",
    "gen wrkstatus=cleaned_hrs1\n",
    "replace wrkstatus=1 if cleaned_hrs1==0"
   ]
  },
  {
   "cell_type": "code",
   "execution_count": 57,
   "metadata": {
    "tags": []
   },
   "outputs": [
    {
     "name": "stdout",
     "output_type": "stream",
     "text": [
      "(475 real changes made)\n"
     ]
    }
   ],
   "source": [
    "replace wrkstatus=2 if cleaned_hrs1>=1 & cleaned_hrs1<=39"
   ]
  },
  {
   "cell_type": "code",
   "execution_count": 58,
   "metadata": {
    "tags": []
   },
   "outputs": [
    {
     "name": "stdout",
     "output_type": "stream",
     "text": [
      "(730 real changes made)\n"
     ]
    }
   ],
   "source": [
    "replace wrkstatus=3 if hrs1==40"
   ]
  },
  {
   "cell_type": "code",
   "execution_count": 59,
   "metadata": {
    "tags": []
   },
   "outputs": [
    {
     "name": "stdout",
     "output_type": "stream",
     "text": [
      "(697 real changes made)\n"
     ]
    }
   ],
   "source": [
    "replace wrkstatus=4 if hrs1>=41"
   ]
  },
  {
   "cell_type": "code",
   "execution_count": 62,
   "metadata": {
    "tags": []
   },
   "outputs": [
    {
     "name": "stdout",
     "output_type": "stream",
     "text": [
      "\n",
      "  family income in constant $ |      Freq.     Percent        Cum.\n",
      "------------------------------+-----------------------------------\n",
      "                          218 |         10        0.57        0.57\n",
      "                          872 |         10        0.57        1.14\n",
      "                         1526 |          5        0.28        1.42\n",
      "                         1962 |          2        0.11        1.54\n",
      "                         2398 |          8        0.46        1.99\n",
      "                         2834 |          6        0.34        2.34\n",
      "                         3270 |          3        0.17        2.51\n",
      "                         3924 |         10        0.57        3.08\n",
      "                         4905 |         20        1.14        4.22\n",
      "                         5995 |         18        1.03        5.24\n",
      "                         7085 |         18        1.03        6.27\n",
      "                         8175 |         23        1.31        7.58\n",
      "                         9265 |         37        2.11        9.69\n",
      "                        10355 |         44        2.51       12.19\n",
      "                        11990 |         60        3.42       15.61\n",
      "                        14170 |         84        4.79       20.40\n",
      "                        16350 |         77        4.39       24.79\n",
      "                        19620 |        125        7.12       31.91\n",
      "                        23980 |        155        8.83       40.74\n",
      "                        29430 |        193       11.00       51.74\n",
      "                        35970 |        160        9.12       60.85\n",
      "                        43600 |        172        9.80       70.66\n",
      "                        52320 |        115        6.55       77.21\n",
      "                        61040 |        101        5.75       82.96\n",
      "                        69760 |         68        3.87       86.84\n",
      "                     144835.4 |        231       13.16      100.00\n",
      "------------------------------+-----------------------------------\n",
      "                        Total |      1,755      100.00\n"
     ]
    }
   ],
   "source": [
    "tab realinc"
   ]
  },
  {
   "cell_type": "code",
   "execution_count": 63,
   "metadata": {
    "tags": []
   },
   "outputs": [
    {
     "name": "stdout",
     "output_type": "stream",
     "text": [
      "(bin=32, start=218, width=4519.2946)\n"
     ]
    },
    {
     "data": {
      "image/png": "[encoded data removed]",
      "text/plain": [
       "<IPython.core.display.Image object>"
      ]
     },
     "metadata": {},
     "output_type": "display_data"
    }
   ],
   "source": [
    "histogram realinc"
   ]
  },
  {
   "cell_type": "code",
   "execution_count": 65,
   "metadata": {
    "tags": []
   },
   "outputs": [
    {
     "name": "stdout",
     "output_type": "stream",
     "text": [
      "(167 missing values generated)\n",
      "(715 real changes made)\n"
     ]
    }
   ],
   "source": [
    "//Cleaning income variable to ordinal level of measurement\n",
    "//1: low-income\n",
    "//2: middle class\n",
    "//3: upper middle class\n",
    "//4: wealthy\n",
    "\n",
    "gen class_status=realinc\n",
    "replace class_status=1 if realinc<25000\n"
   ]
  },
  {
   "cell_type": "code",
   "execution_count": 66,
   "metadata": {
    "tags": []
   },
   "outputs": [
    {
     "name": "stdout",
     "output_type": "stream",
     "text": [
      "(353 real changes made)\n",
      "(456 real changes made)\n",
      "(398 real changes made)\n"
     ]
    }
   ],
   "source": [
    "replace class_status=2 if realinc>=25000 & realinc<=40000\n",
    "replace class_status=3 if realinc>40000 & realinc<=70000\n",
    "replace class_status=4 if realinc>70000 "
   ]
  },
  {
   "cell_type": "code",
   "execution_count": 68,
   "metadata": {
    "tags": []
   },
   "outputs": [],
   "source": [
    "label variable class_status \"Financial Status\"\n",
    "label define class_status 1 \"Low-income\" 2 \"Middle\" 3 \"Upper-Middle\" 4 \"Wealthy\"\n",
    "label values class_status class_status"
   ]
  },
  {
   "cell_type": "code",
   "execution_count": 69,
   "metadata": {
    "tags": []
   },
   "outputs": [
    {
     "name": "stdout",
     "output_type": "stream",
     "text": [
      "\n",
      "-------------------------------------------------------------------------------\n",
      "class_status                                                   Financial Status\n",
      "-------------------------------------------------------------------------------\n",
      "\n",
      "                  Type: Numeric (float)\n",
      "                 Label: class_status\n",
      "\n",
      "                 Range: [1,4]                         Units: 1\n",
      "         Unique values: 4                         Missing .: 0/1,922\n",
      "\n",
      "            Tabulation: Freq.   Numeric  Label\n",
      "                          715         1  Low-income\n",
      "                          353         2  Middle\n",
      "                          456         3  Upper-Middle\n",
      "                          398         4  Wealthy\n"
     ]
    }
   ],
   "source": [
    "codebook class_status"
   ]
  },
  {
   "cell_type": "markdown",
   "metadata": {},
   "source": [
    "\n",
    "Do the following when you write your hypothesis:\n",
    "\n",
    "    A. Write a separate hypothesis for each dependent variable (DV) you want to analyze.\n",
    "    \n",
    "    B. For each dependent variable (DV) state the predicted direction of association between your dependent variable DV and independent variables (IVs) in your model. You can predict no relationship if you do not expect a relationship.\n",
    "    \n",
    "    C. Write a couple sentences about the theoretical reasons (prior knowledge / research) for each of your predictions"
   ]
  },
  {
   "cell_type": "code",
   "execution_count": null,
   "metadata": {},
   "outputs": [],
   "source": [
    "/*A. I hypothesize that the lower your financial status, measured by household income and hours worked per week, ///\n",
    "is associated with experiencing poor health, measured by days of poor health in a month.*/"
   ]
  },
  {
   "cell_type": "code",
   "execution_count": null,
   "metadata": {},
   "outputs": [],
   "source": [
    "/*B. I predict there will be a negative association between financial status and poor physical health.  */"
   ]
  },
  {
   "cell_type": "code",
   "execution_count": null,
   "metadata": {},
   "outputs": [],
   "source": [
    "/*C. This hypothesis is based on Fundamental Cause Theory that has established multiple factors of SES being associated ///\n",
    "with poorer health outcomes due to occupational hazards. These indicators will capture economic, rather than a comprehensive, ///\n",
    "intersectional view of social location that intersect with multiple systems of racial and gender oppression. But, we can ///\n",
    "parse out the effect of income and working hours with this model.*/"
   ]
  },
  {
   "cell_type": "markdown",
   "metadata": {},
   "source": [
    "### 2. Test your hypotheses [3 pts]\n",
    "\n",
    "    A. Create a frequency table for your dependent variable (DV).\n",
    "\n",
    "    B. Estimate an OLS model regressing your dichotomous dependent variable (DV) on your hypothesized independent variables (IVs) and store the results.\n",
    "    \n",
    "    C. Estimate an MLE logistic model regressing your dichotomous dependent variable (DV) on your hypothesized independent variables (IVs) and store the results.\n",
    "    \n",
    "    D. Use esttab to output the coefficients for your OLS and MLE logistic models with html formatting within your Jupyter Notebook.\n",
    "    \n",
    "    E. Use esttab to reoutput your coefficients as odd ratios."
   ]
  },
  {
   "cell_type": "code",
   "execution_count": 20,
   "metadata": {
    "tags": []
   },
   "outputs": [
    {
     "name": "stdout",
     "output_type": "stream",
     "text": [
      "\n",
      "Experienced poor days of |\n",
      "    health for more than |\n",
      "          half the month |      Freq.     Percent        Cum.\n",
      "-------------------------+-----------------------------------\n",
      "Less than half the month |      1,807       94.02       94.02\n",
      "More than half the month |        115        5.98      100.00\n",
      "-------------------------+-----------------------------------\n",
      "                   Total |      1,922      100.00\n"
     ]
    }
   ],
   "source": [
    "//A:\n",
    "tab poor_health"
   ]
  },
  {
   "cell_type": "code",
   "execution_count": 88,
   "metadata": {
    "tags": []
   },
   "outputs": [],
   "source": [
    "// Clearing stored estimates\n",
    "\n",
    "est clear"
   ]
  },
  {
   "cell_type": "code",
   "execution_count": 89,
   "metadata": {
    "tags": []
   },
   "outputs": [
    {
     "name": "stdout",
     "output_type": "stream",
     "text": [
      "\n",
      "Linear regression                               Number of obs     =      1,922\n",
      "                                                F(6, 1915)        =       2.95\n",
      "                                                Prob > F          =     0.0072\n",
      "                                                R-squared         =     0.0134\n",
      "                                                Root MSE          =     .23601\n",
      "\n",
      "------------------------------------------------------------------------------\n",
      "             |               Robust\n",
      " poor_health | Coefficient  std. err.      t    P>|t|     [95% conf. interval]\n",
      "-------------+----------------------------------------------------------------\n",
      "class_status |\n",
      "     Middle  |  -.0283195   .0157152    -1.80   0.072    -.0591403    .0025013\n",
      "Upper-Mid~e  |  -.0397914   .0142398    -2.79   0.005    -.0677186   -.0118642\n",
      "    Wealthy  |   -.046003   .0141222    -3.26   0.001    -.0736995   -.0183065\n",
      "             |\n",
      "   wrkstatus |\n",
      "          2  |  -.1393157   .0919837    -1.51   0.130    -.3197145     .041083\n",
      "          3  |   -.165282   .0912436    -1.81   0.070    -.3442293    .0136653\n",
      "          4  |  -.1461132   .0913344    -1.60   0.110    -.3252386    .0330122\n",
      "             |\n",
      "       _cons |   .2342674   .0923132     2.54   0.011     .0532224    .4153124\n",
      "------------------------------------------------------------------------------\n",
      "(est1 stored)\n"
     ]
    }
   ],
   "source": [
    "//B: Estimating an OLS model and storing results\n",
    "// Use \"ro\", short for robust, to get robust standard errors\n",
    "\n",
    "eststo: reg poor_health i.class_status i.wrkstatus, ro"
   ]
  },
  {
   "cell_type": "code",
   "execution_count": 90,
   "metadata": {
    "tags": []
   },
   "outputs": [
    {
     "name": "stdout",
     "output_type": "stream",
     "text": [
      "\n",
      "Iteration 0:  Log pseudolikelihood = -435.35061  \n",
      "Iteration 1:  Log pseudolikelihood = -427.29651  \n",
      "Iteration 2:  Log pseudolikelihood =  -423.8572  \n",
      "Iteration 3:  Log pseudolikelihood = -423.85247  \n",
      "Iteration 4:  Log pseudolikelihood = -423.85247  \n",
      "\n",
      "Logistic regression                                     Number of obs =  1,922\n",
      "                                                        Wald chi2(6)  =  21.40\n",
      "                                                        Prob > chi2   = 0.0016\n",
      "Log pseudolikelihood = -423.85247                       Pseudo R2     = 0.0264\n",
      "\n",
      "------------------------------------------------------------------------------\n",
      "             |               Robust\n",
      " poor_health | Coefficient  std. err.      z    P>|z|     [95% conf. interval]\n",
      "-------------+----------------------------------------------------------------\n",
      "class_status |\n",
      "     Middle  |  -.4423677    .270461    -1.64   0.102    -.9724615    .0877261\n",
      "Upper-Mid~e  |  -.6872174   .2698844    -2.55   0.011    -1.216181   -.1582536\n",
      "    Wealthy  |  -.8458748   .2979266    -2.84   0.005      -1.4298   -.2619494\n",
      "             |\n",
      "   wrkstatus |\n",
      "          2  |  -1.276533    .563211    -2.27   0.023    -2.380406   -.1726596\n",
      "          3  |  -1.757818    .561289    -3.13   0.002    -2.857924   -.6577114\n",
      "          4  |  -1.370919   .5530686    -2.48   0.013    -2.454914   -.2869249\n",
      "             |\n",
      "       _cons |  -.9424016   .5510132    -1.71   0.087    -2.022368    .1375644\n",
      "------------------------------------------------------------------------------\n",
      "(est2 stored)\n",
      "\n",
      "Conditional marginal effects                             Number of obs = 1,922\n",
      "Model VCE: Robust\n",
      "\n",
      "Expression: Pr(poor_health), predict()\n",
      "dy/dx wrt:  2.class_status 3.class_status 4.class_status 2.wrkstatus\n",
      "            3.wrkstatus 4.wrkstatus\n",
      "At: 1.class_status = .3720083 (mean)\n",
      "    2.class_status = .1836629 (mean)\n",
      "    3.class_status = .2372529 (mean)\n",
      "    4.class_status =  .207076 (mean)\n",
      "    1.wrkstatus    = .0098855 (mean)\n",
      "    2.wrkstatus    = .2476587 (mean)\n",
      "    3.wrkstatus    = .3798127 (mean)\n",
      "    4.wrkstatus    = .3626431 (mean)\n",
      "\n",
      "------------------------------------------------------------------------------\n",
      "             |            Delta-method\n",
      "             |      dy/dx   std. err.      z    P>|z|     [95% conf. interval]\n",
      "-------------+----------------------------------------------------------------\n",
      "class_status |\n",
      "     Middle  |  -.0275351   .0155811    -1.77   0.077    -.0580734    .0030032\n",
      "Upper-Mid~e  |  -.0387362   .0138643    -2.79   0.005    -.0659097   -.0115627\n",
      "    Wealthy  |  -.0447675   .0137242    -3.26   0.001    -.0716665   -.0178685\n",
      "             |\n",
      "   wrkstatus |\n",
      "          2  |  -.1372309   .0868322    -1.58   0.114    -.3074189    .0329572\n",
      "          3  |  -.1616362   .0861626    -1.88   0.061    -.3305117    .0072393\n",
      "          4  |  -.1428723   .0863417    -1.65   0.098     -.312099    .0263543\n",
      "------------------------------------------------------------------------------\n",
      "Note: dy/dx for factor levels is the discrete change from the base level.\n",
      "(est3 stored)\n"
     ]
    }
   ],
   "source": [
    "//C: Estimating an MLE logistic model and storing results\n",
    "// Using \"ro\" again to get robust standard errors\n",
    "\n",
    "eststo: logit poor_health i.class_status i.wrkstatus, ro\n",
    "eststo: margins, dydx(*) post atmeans"
   ]
  },
  {
   "cell_type": "code",
   "execution_count": 94,
   "metadata": {
    "tags": []
   },
   "outputs": [
    {
     "name": "stdout",
     "output_type": "stream",
     "text": [
      "\n",
      "Unexpontiated Coefficients\n",
      "---------------------------------------------------------------\n",
      "                      (1)              (2)              (3)    \n",
      "                      OLS     MLE / logi~c     MLE margin~s    \n",
      "---------------------------------------------------------------\n",
      "main                                                           \n",
      "2.class_st~s        -0.03 ^          -0.44            -0.03 ^  \n",
      "                   (0.02)           (0.27)           (0.02)    \n",
      "4.wrkstatus         -0.15            -1.37 *          -0.14 ^  \n",
      "                   (0.09)           (0.55)           (0.09)    \n",
      "_cons                0.23 *          -0.94 ^                   \n",
      "                   (0.09)           (0.55)                     \n",
      "---------------------------------------------------------------\n",
      "N                    1922             1922             1922    \n",
      "---------------------------------------------------------------\n",
      "^ p<.1, * p<.05, ** p<.01, *** p<.001\n"
     ]
    }
   ],
   "source": [
    "*** PART D: Outputting Table Results\n",
    "\n",
    "esttab ///\n",
    ", cells(b(star fmt(2)) se(fmt(2) par)) stardetach  ///\n",
    "\tlegend starlevels(^ .1 * .05 ** .01 *** .001) ///\n",
    "mlabels(\"OLS\" \"MLE / logistic\" \"MLE marginal effects\") title(\"Unexpontiated Coefficients\") ///\n",
    "collabels(none) keep (2.class_status 4.wrkstatus _cons)\n"
   ]
  },
  {
   "cell_type": "markdown",
   "metadata": {},
   "source": [
    "### 3. Interpret your results [1 pt]\n",
    "\n",
    "Write a couple sentences answering each of the following questions:\n",
    "\n",
    "    A. How would you interpret the relationship between your dependent variable(s) (DVs) and independent variables (IVs) based on the odds ratios for you MLE logistic model?\n",
    "    \n",
    "The odds of experiencing more than half a month of poor health is 1.03% less for people who are classified as lower-class compared to those in other classes. The odds of experiencing poor health is -1.14% for those who work more than 40 hours a week compared to those who don't.  \n",
    "\n",
    "    B. Do the overall estimates support or contradict your hypotheses? Why?\n",
    "These estimates provides some support my hypotheses because there is a negative association found in my models' odds ratio models for those who are in lower-class and working-class groups and their poor health. \n",
    "    \n",
    "    C. Is there anything suprising in your model estimates? Why?\n",
    "The surprising thing to me are the probability values I received for these estimates. I figured that this model was not intersectional enough to capture much statistical significance between the liminal measures of SES and health quality.\n",
    "    \n",
    "    D. How do the OLS coefficients and their standard errors compare to the MLE estimates? Are the coefficients and standard errors larger or smaller?\n",
    "\n",
    "The magnitude, direction, and standard errors of my findings are comparable between the OLS and MLE models. There appears to be virtually no difference in the results, aside from the .01 difference observed in wrkstatus in the robust MLE model."
   ]
  },
  {
   "cell_type": "code",
   "execution_count": null,
   "metadata": {},
   "outputs": [],
   "source": []
  }
 ],
 "metadata": {
  "kernelspec": {
   "display_name": "Stata (nbstata)",
   "language": "stata",
   "name": "nbstata"
  },
  "language_info": {
   "file_extension": ".do",
   "mimetype": "text/x-stata",
   "name": "stata",
   "version": "17"
  }
 },
 "nbformat": 4,
 "nbformat_minor": 4
}
